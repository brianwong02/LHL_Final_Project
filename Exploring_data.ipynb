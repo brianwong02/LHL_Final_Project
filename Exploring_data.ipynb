{
 "cells": [
  {
   "cell_type": "code",
   "execution_count": 1,
   "metadata": {},
   "outputs": [],
   "source": [
    "import pandas as pd\n",
    "import numpy as np\n",
    "\n",
    "import seaborn as sns\n",
    "import plotly.graph_objs as go\n",
    "import matplotlib.pyplot as plt"
   ]
  },
  {
   "cell_type": "code",
   "execution_count": 2,
   "metadata": {},
   "outputs": [],
   "source": [
    "df_games = pd.concat(\n",
    "    [pd.read_csv('C://Users/brian/lighthouse-data-notes/Final_Project/Data/Games/games_2008_season.csv'),\n",
    "     pd.read_csv('C://Users/brian/lighthouse-data-notes/Final_Project/Data/Games/games_2009_season.csv'),\n",
    "     pd.read_csv('C://Users/brian/lighthouse-data-notes/Final_Project/Data/Games/games_2010_season.csv'),\n",
    "     pd.read_csv('C://Users/brian/lighthouse-data-notes/Final_Project/Data/Games/games_2011_season.csv'),\n",
    "     pd.read_csv('C://Users/brian/lighthouse-data-notes/Final_Project/Data/Games/games_2012_season.csv'),\n",
    "     pd.read_csv('C://Users/brian/lighthouse-data-notes/Final_Project/Data/Games/games_2013_season.csv'),\n",
    "     pd.read_csv('C://Users/brian/lighthouse-data-notes/Final_Project/Data/Games/games_2014_season.csv'),\n",
    "     pd.read_csv('C://Users/brian/lighthouse-data-notes/Final_Project/Data/Games/games_2015_season.csv'),\n",
    "     pd.read_csv('C://Users/brian/lighthouse-data-notes/Final_Project/Data/Games/games_2016_season.csv'),\n",
    "     pd.read_csv('C://Users/brian/lighthouse-data-notes/Final_Project/Data/Games/games_2017_season.csv'),\n",
    "     pd.read_csv('C://Users/brian/lighthouse-data-notes/Final_Project/Data/Games/games_2018_season.csv'),\n",
    "     pd.read_csv('C://Users/brian/lighthouse-data-notes/Final_Project/Data/Games/games_2019_season.csv'),\n",
    "     pd.read_csv('C://Users/brian/lighthouse-data-notes/Final_Project/Data/Games/games_2020_season.csv'),\n",
    "     pd.read_csv('C://Users/brian/lighthouse-data-notes/Final_Project/Data/Games/games_2021_season.csv')]\n",
    ")"
   ]
  },
  {
   "cell_type": "code",
   "execution_count": 3,
   "metadata": {},
   "outputs": [
    {
     "data": {
      "text/html": [
       "<div>\n",
       "<style scoped>\n",
       "    .dataframe tbody tr th:only-of-type {\n",
       "        vertical-align: middle;\n",
       "    }\n",
       "\n",
       "    .dataframe tbody tr th {\n",
       "        vertical-align: top;\n",
       "    }\n",
       "\n",
       "    .dataframe thead th {\n",
       "        text-align: right;\n",
       "    }\n",
       "</style>\n",
       "<table border=\"1\" class=\"dataframe\">\n",
       "  <thead>\n",
       "    <tr style=\"text-align: right;\">\n",
       "      <th></th>\n",
       "      <th>id</th>\n",
       "      <th>date</th>\n",
       "      <th>home_team_score</th>\n",
       "      <th>period</th>\n",
       "      <th>postseason</th>\n",
       "      <th>season</th>\n",
       "      <th>status</th>\n",
       "      <th>time</th>\n",
       "      <th>visitor_team_score</th>\n",
       "      <th>home_team.id</th>\n",
       "      <th>...</th>\n",
       "      <th>home_team.division</th>\n",
       "      <th>home_team.full_name</th>\n",
       "      <th>home_team.name</th>\n",
       "      <th>visitor_team.id</th>\n",
       "      <th>visitor_team.abbreviation</th>\n",
       "      <th>visitor_team.city</th>\n",
       "      <th>visitor_team.conference</th>\n",
       "      <th>visitor_team.division</th>\n",
       "      <th>visitor_team.full_name</th>\n",
       "      <th>visitor_team.name</th>\n",
       "    </tr>\n",
       "  </thead>\n",
       "  <tbody>\n",
       "    <tr>\n",
       "      <th>0</th>\n",
       "      <td>21169</td>\n",
       "      <td>2008-12-20T00:00:00.000Z</td>\n",
       "      <td>94</td>\n",
       "      <td>4</td>\n",
       "      <td>False</td>\n",
       "      <td>2008</td>\n",
       "      <td>Final</td>\n",
       "      <td></td>\n",
       "      <td>95</td>\n",
       "      <td>23</td>\n",
       "      <td>...</td>\n",
       "      <td>Atlantic</td>\n",
       "      <td>Philadelphia 76ers</td>\n",
       "      <td>76ers</td>\n",
       "      <td>12</td>\n",
       "      <td>IND</td>\n",
       "      <td>Indiana</td>\n",
       "      <td>East</td>\n",
       "      <td>Central</td>\n",
       "      <td>Indiana Pacers</td>\n",
       "      <td>Pacers</td>\n",
       "    </tr>\n",
       "    <tr>\n",
       "      <th>1</th>\n",
       "      <td>21170</td>\n",
       "      <td>2008-12-21T00:00:00.000Z</td>\n",
       "      <td>85</td>\n",
       "      <td>4</td>\n",
       "      <td>False</td>\n",
       "      <td>2008</td>\n",
       "      <td>Final</td>\n",
       "      <td></td>\n",
       "      <td>78</td>\n",
       "      <td>1</td>\n",
       "      <td>...</td>\n",
       "      <td>Southeast</td>\n",
       "      <td>Atlanta Hawks</td>\n",
       "      <td>Hawks</td>\n",
       "      <td>9</td>\n",
       "      <td>DET</td>\n",
       "      <td>Detroit</td>\n",
       "      <td>East</td>\n",
       "      <td>Central</td>\n",
       "      <td>Detroit Pistons</td>\n",
       "      <td>Pistons</td>\n",
       "    </tr>\n",
       "    <tr>\n",
       "      <th>2</th>\n",
       "      <td>21171</td>\n",
       "      <td>2008-12-22T00:00:00.000Z</td>\n",
       "      <td>113</td>\n",
       "      <td>4</td>\n",
       "      <td>False</td>\n",
       "      <td>2008</td>\n",
       "      <td>Final</td>\n",
       "      <td></td>\n",
       "      <td>81</td>\n",
       "      <td>22</td>\n",
       "      <td>...</td>\n",
       "      <td>Southeast</td>\n",
       "      <td>Orlando Magic</td>\n",
       "      <td>Magic</td>\n",
       "      <td>10</td>\n",
       "      <td>GSW</td>\n",
       "      <td>Golden State</td>\n",
       "      <td>West</td>\n",
       "      <td>Pacific</td>\n",
       "      <td>Golden State Warriors</td>\n",
       "      <td>Warriors</td>\n",
       "    </tr>\n",
       "    <tr>\n",
       "      <th>3</th>\n",
       "      <td>21172</td>\n",
       "      <td>2008-12-23T00:00:00.000Z</td>\n",
       "      <td>110</td>\n",
       "      <td>4</td>\n",
       "      <td>False</td>\n",
       "      <td>2008</td>\n",
       "      <td>Final</td>\n",
       "      <td></td>\n",
       "      <td>91</td>\n",
       "      <td>2</td>\n",
       "      <td>...</td>\n",
       "      <td>Atlantic</td>\n",
       "      <td>Boston Celtics</td>\n",
       "      <td>Celtics</td>\n",
       "      <td>23</td>\n",
       "      <td>PHI</td>\n",
       "      <td>Philadelphia</td>\n",
       "      <td>East</td>\n",
       "      <td>Atlantic</td>\n",
       "      <td>Philadelphia 76ers</td>\n",
       "      <td>76ers</td>\n",
       "    </tr>\n",
       "    <tr>\n",
       "      <th>4</th>\n",
       "      <td>21173</td>\n",
       "      <td>2008-12-26T00:00:00.000Z</td>\n",
       "      <td>97</td>\n",
       "      <td>4</td>\n",
       "      <td>False</td>\n",
       "      <td>2008</td>\n",
       "      <td>Final</td>\n",
       "      <td></td>\n",
       "      <td>88</td>\n",
       "      <td>29</td>\n",
       "      <td>...</td>\n",
       "      <td>Northwest</td>\n",
       "      <td>Utah Jazz</td>\n",
       "      <td>Jazz</td>\n",
       "      <td>7</td>\n",
       "      <td>DAL</td>\n",
       "      <td>Dallas</td>\n",
       "      <td>West</td>\n",
       "      <td>Southwest</td>\n",
       "      <td>Dallas Mavericks</td>\n",
       "      <td>Mavericks</td>\n",
       "    </tr>\n",
       "    <tr>\n",
       "      <th>...</th>\n",
       "      <td>...</td>\n",
       "      <td>...</td>\n",
       "      <td>...</td>\n",
       "      <td>...</td>\n",
       "      <td>...</td>\n",
       "      <td>...</td>\n",
       "      <td>...</td>\n",
       "      <td>...</td>\n",
       "      <td>...</td>\n",
       "      <td>...</td>\n",
       "      <td>...</td>\n",
       "      <td>...</td>\n",
       "      <td>...</td>\n",
       "      <td>...</td>\n",
       "      <td>...</td>\n",
       "      <td>...</td>\n",
       "      <td>...</td>\n",
       "      <td>...</td>\n",
       "      <td>...</td>\n",
       "      <td>...</td>\n",
       "      <td>...</td>\n",
       "    </tr>\n",
       "    <tr>\n",
       "      <th>1411</th>\n",
       "      <td>854588</td>\n",
       "      <td>2022-05-26T00:00:00.000Z</td>\n",
       "      <td>120</td>\n",
       "      <td>4</td>\n",
       "      <td>True</td>\n",
       "      <td>2021</td>\n",
       "      <td>Final</td>\n",
       "      <td>NaN</td>\n",
       "      <td>110</td>\n",
       "      <td>10</td>\n",
       "      <td>...</td>\n",
       "      <td>Pacific</td>\n",
       "      <td>Golden State Warriors</td>\n",
       "      <td>Warriors</td>\n",
       "      <td>7</td>\n",
       "      <td>DAL</td>\n",
       "      <td>Dallas</td>\n",
       "      <td>West</td>\n",
       "      <td>Southwest</td>\n",
       "      <td>Dallas Mavericks</td>\n",
       "      <td>Mavericks</td>\n",
       "    </tr>\n",
       "    <tr>\n",
       "      <th>1412</th>\n",
       "      <td>854012</td>\n",
       "      <td>2022-05-24T00:00:00.000Z</td>\n",
       "      <td>119</td>\n",
       "      <td>4</td>\n",
       "      <td>True</td>\n",
       "      <td>2021</td>\n",
       "      <td>Final</td>\n",
       "      <td>NaN</td>\n",
       "      <td>109</td>\n",
       "      <td>7</td>\n",
       "      <td>...</td>\n",
       "      <td>Southwest</td>\n",
       "      <td>Dallas Mavericks</td>\n",
       "      <td>Mavericks</td>\n",
       "      <td>10</td>\n",
       "      <td>GSW</td>\n",
       "      <td>Golden State</td>\n",
       "      <td>West</td>\n",
       "      <td>Pacific</td>\n",
       "      <td>Golden State Warriors</td>\n",
       "      <td>Warriors</td>\n",
       "    </tr>\n",
       "    <tr>\n",
       "      <th>1413</th>\n",
       "      <td>856459</td>\n",
       "      <td>2022-06-10T00:00:00.000Z</td>\n",
       "      <td>97</td>\n",
       "      <td>4</td>\n",
       "      <td>True</td>\n",
       "      <td>2021</td>\n",
       "      <td>Final</td>\n",
       "      <td>NaN</td>\n",
       "      <td>107</td>\n",
       "      <td>2</td>\n",
       "      <td>...</td>\n",
       "      <td>Atlantic</td>\n",
       "      <td>Boston Celtics</td>\n",
       "      <td>Celtics</td>\n",
       "      <td>10</td>\n",
       "      <td>GSW</td>\n",
       "      <td>Golden State</td>\n",
       "      <td>West</td>\n",
       "      <td>Pacific</td>\n",
       "      <td>Golden State Warriors</td>\n",
       "      <td>Warriors</td>\n",
       "    </tr>\n",
       "    <tr>\n",
       "      <th>1414</th>\n",
       "      <td>856779</td>\n",
       "      <td>2022-06-13T00:00:00.000Z</td>\n",
       "      <td>104</td>\n",
       "      <td>4</td>\n",
       "      <td>True</td>\n",
       "      <td>2021</td>\n",
       "      <td>Final</td>\n",
       "      <td>NaN</td>\n",
       "      <td>84</td>\n",
       "      <td>10</td>\n",
       "      <td>...</td>\n",
       "      <td>Pacific</td>\n",
       "      <td>Golden State Warriors</td>\n",
       "      <td>Warriors</td>\n",
       "      <td>2</td>\n",
       "      <td>BOS</td>\n",
       "      <td>Boston</td>\n",
       "      <td>East</td>\n",
       "      <td>Atlantic</td>\n",
       "      <td>Boston Celtics</td>\n",
       "      <td>Celtics</td>\n",
       "    </tr>\n",
       "    <tr>\n",
       "      <th>1415</th>\n",
       "      <td>856171</td>\n",
       "      <td>2022-06-08T00:00:00.000Z</td>\n",
       "      <td>116</td>\n",
       "      <td>4</td>\n",
       "      <td>True</td>\n",
       "      <td>2021</td>\n",
       "      <td>Final</td>\n",
       "      <td>NaN</td>\n",
       "      <td>100</td>\n",
       "      <td>2</td>\n",
       "      <td>...</td>\n",
       "      <td>Atlantic</td>\n",
       "      <td>Boston Celtics</td>\n",
       "      <td>Celtics</td>\n",
       "      <td>10</td>\n",
       "      <td>GSW</td>\n",
       "      <td>Golden State</td>\n",
       "      <td>West</td>\n",
       "      <td>Pacific</td>\n",
       "      <td>Golden State Warriors</td>\n",
       "      <td>Warriors</td>\n",
       "    </tr>\n",
       "  </tbody>\n",
       "</table>\n",
       "<p>17934 rows × 23 columns</p>\n",
       "</div>"
      ],
      "text/plain": [
       "          id                      date  home_team_score  period  postseason  \\\n",
       "0      21169  2008-12-20T00:00:00.000Z               94       4       False   \n",
       "1      21170  2008-12-21T00:00:00.000Z               85       4       False   \n",
       "2      21171  2008-12-22T00:00:00.000Z              113       4       False   \n",
       "3      21172  2008-12-23T00:00:00.000Z              110       4       False   \n",
       "4      21173  2008-12-26T00:00:00.000Z               97       4       False   \n",
       "...      ...                       ...              ...     ...         ...   \n",
       "1411  854588  2022-05-26T00:00:00.000Z              120       4        True   \n",
       "1412  854012  2022-05-24T00:00:00.000Z              119       4        True   \n",
       "1413  856459  2022-06-10T00:00:00.000Z               97       4        True   \n",
       "1414  856779  2022-06-13T00:00:00.000Z              104       4        True   \n",
       "1415  856171  2022-06-08T00:00:00.000Z              116       4        True   \n",
       "\n",
       "      season status time  visitor_team_score  home_team.id  ...  \\\n",
       "0       2008  Final                       95            23  ...   \n",
       "1       2008  Final                       78             1  ...   \n",
       "2       2008  Final                       81            22  ...   \n",
       "3       2008  Final                       91             2  ...   \n",
       "4       2008  Final                       88            29  ...   \n",
       "...      ...    ...  ...                 ...           ...  ...   \n",
       "1411    2021  Final  NaN                 110            10  ...   \n",
       "1412    2021  Final  NaN                 109             7  ...   \n",
       "1413    2021  Final  NaN                 107             2  ...   \n",
       "1414    2021  Final  NaN                  84            10  ...   \n",
       "1415    2021  Final  NaN                 100             2  ...   \n",
       "\n",
       "     home_team.division    home_team.full_name home_team.name visitor_team.id  \\\n",
       "0              Atlantic     Philadelphia 76ers          76ers              12   \n",
       "1             Southeast          Atlanta Hawks          Hawks               9   \n",
       "2             Southeast          Orlando Magic          Magic              10   \n",
       "3              Atlantic         Boston Celtics        Celtics              23   \n",
       "4             Northwest              Utah Jazz           Jazz               7   \n",
       "...                 ...                    ...            ...             ...   \n",
       "1411            Pacific  Golden State Warriors       Warriors               7   \n",
       "1412          Southwest       Dallas Mavericks      Mavericks              10   \n",
       "1413           Atlantic         Boston Celtics        Celtics              10   \n",
       "1414            Pacific  Golden State Warriors       Warriors               2   \n",
       "1415           Atlantic         Boston Celtics        Celtics              10   \n",
       "\n",
       "     visitor_team.abbreviation visitor_team.city  visitor_team.conference  \\\n",
       "0                          IND           Indiana                     East   \n",
       "1                          DET           Detroit                     East   \n",
       "2                          GSW      Golden State                     West   \n",
       "3                          PHI      Philadelphia                     East   \n",
       "4                          DAL            Dallas                     West   \n",
       "...                        ...               ...                      ...   \n",
       "1411                       DAL            Dallas                     West   \n",
       "1412                       GSW      Golden State                     West   \n",
       "1413                       GSW      Golden State                     West   \n",
       "1414                       BOS            Boston                     East   \n",
       "1415                       GSW      Golden State                     West   \n",
       "\n",
       "     visitor_team.division visitor_team.full_name visitor_team.name  \n",
       "0                  Central         Indiana Pacers            Pacers  \n",
       "1                  Central        Detroit Pistons           Pistons  \n",
       "2                  Pacific  Golden State Warriors          Warriors  \n",
       "3                 Atlantic     Philadelphia 76ers             76ers  \n",
       "4                Southwest       Dallas Mavericks         Mavericks  \n",
       "...                    ...                    ...               ...  \n",
       "1411             Southwest       Dallas Mavericks         Mavericks  \n",
       "1412               Pacific  Golden State Warriors          Warriors  \n",
       "1413               Pacific  Golden State Warriors          Warriors  \n",
       "1414              Atlantic         Boston Celtics           Celtics  \n",
       "1415               Pacific  Golden State Warriors          Warriors  \n",
       "\n",
       "[17934 rows x 23 columns]"
      ]
     },
     "execution_count": 3,
     "metadata": {},
     "output_type": "execute_result"
    }
   ],
   "source": [
    "df_games"
   ]
  },
  {
   "cell_type": "code",
   "execution_count": 4,
   "metadata": {},
   "outputs": [
    {
     "name": "stderr",
     "output_type": "stream",
     "text": [
      "c:\\Users\\brian\\anaconda3\\lib\\site-packages\\IPython\\core\\interactiveshell.py:3444: DtypeWarning: Columns (28) have mixed types.Specify dtype option on import or set low_memory=False.\n",
      "  exec(code_obj, self.user_global_ns, self.user_ns)\n"
     ]
    }
   ],
   "source": [
    "df_stats = pd.concat(\n",
    "    [pd.read_csv('C://Users/brian/lighthouse-data-notes/Final_Project/Data/Stats/stats_2013_season.csv'),\n",
    "     pd.read_csv('C://Users/brian/lighthouse-data-notes/Final_Project/Data/Stats/stats_2014_season.csv'),\n",
    "     pd.read_csv('C://Users/brian/lighthouse-data-notes/Final_Project/Data/Stats/stats_2015_season.csv'),\n",
    "     pd.read_csv('C://Users/brian/lighthouse-data-notes/Final_Project/Data/Stats/stats_2016_season.csv'),\n",
    "     pd.read_csv('C://Users/brian/lighthouse-data-notes/Final_Project/Data/Stats/stats_2017_season.csv'),\n",
    "     pd.read_csv('C://Users/brian/lighthouse-data-notes/Final_Project/Data/Stats/stats_2018_season.csv'),\n",
    "     pd.read_csv('C://Users/brian/lighthouse-data-notes/Final_Project/Data/Stats/stats_2019_season.csv'),\n",
    "     pd.read_csv('C://Users/brian/lighthouse-data-notes/Final_Project/Data/Stats/stats_2020_season.csv'),\n",
    "     pd.read_csv('C://Users/brian/lighthouse-data-notes/Final_Project/Data/Stats/stats_2021_season.csv')]\n",
    ")"
   ]
  },
  {
   "cell_type": "code",
   "execution_count": 5,
   "metadata": {},
   "outputs": [
    {
     "data": {
      "text/html": [
       "<div>\n",
       "<style scoped>\n",
       "    .dataframe tbody tr th:only-of-type {\n",
       "        vertical-align: middle;\n",
       "    }\n",
       "\n",
       "    .dataframe tbody tr th {\n",
       "        vertical-align: top;\n",
       "    }\n",
       "\n",
       "    .dataframe thead th {\n",
       "        text-align: right;\n",
       "    }\n",
       "</style>\n",
       "<table border=\"1\" class=\"dataframe\">\n",
       "  <thead>\n",
       "    <tr style=\"text-align: right;\">\n",
       "      <th></th>\n",
       "      <th>id</th>\n",
       "      <th>ast</th>\n",
       "      <th>blk</th>\n",
       "      <th>dreb</th>\n",
       "      <th>fg3_pct</th>\n",
       "      <th>fg3a</th>\n",
       "      <th>fg3m</th>\n",
       "      <th>fg_pct</th>\n",
       "      <th>fga</th>\n",
       "      <th>fgm</th>\n",
       "      <th>...</th>\n",
       "      <th>player.team_id</th>\n",
       "      <th>player.weight_pounds</th>\n",
       "      <th>team.id</th>\n",
       "      <th>team.abbreviation</th>\n",
       "      <th>team.city</th>\n",
       "      <th>team.conference</th>\n",
       "      <th>team.division</th>\n",
       "      <th>team.full_name</th>\n",
       "      <th>team.name</th>\n",
       "      <th>player</th>\n",
       "    </tr>\n",
       "  </thead>\n",
       "  <tbody>\n",
       "    <tr>\n",
       "      <th>0</th>\n",
       "      <td>688007</td>\n",
       "      <td>0.0</td>\n",
       "      <td>0.0</td>\n",
       "      <td>0.0</td>\n",
       "      <td>0.0</td>\n",
       "      <td>0.0</td>\n",
       "      <td>0.0</td>\n",
       "      <td>0.0</td>\n",
       "      <td>1.0</td>\n",
       "      <td>0.0</td>\n",
       "      <td>...</td>\n",
       "      <td>3.0</td>\n",
       "      <td>NaN</td>\n",
       "      <td>20</td>\n",
       "      <td>NYK</td>\n",
       "      <td>New York</td>\n",
       "      <td>East</td>\n",
       "      <td>Atlantic</td>\n",
       "      <td>New York Knicks</td>\n",
       "      <td>Knicks</td>\n",
       "      <td>NaN</td>\n",
       "    </tr>\n",
       "    <tr>\n",
       "      <th>1</th>\n",
       "      <td>688004</td>\n",
       "      <td>3.0</td>\n",
       "      <td>1.0</td>\n",
       "      <td>7.0</td>\n",
       "      <td>0.0</td>\n",
       "      <td>0.0</td>\n",
       "      <td>0.0</td>\n",
       "      <td>0.5</td>\n",
       "      <td>8.0</td>\n",
       "      <td>4.0</td>\n",
       "      <td>...</td>\n",
       "      <td>11.0</td>\n",
       "      <td>240.0</td>\n",
       "      <td>20</td>\n",
       "      <td>NYK</td>\n",
       "      <td>New York</td>\n",
       "      <td>East</td>\n",
       "      <td>Atlantic</td>\n",
       "      <td>New York Knicks</td>\n",
       "      <td>Knicks</td>\n",
       "      <td>NaN</td>\n",
       "    </tr>\n",
       "    <tr>\n",
       "      <th>2</th>\n",
       "      <td>688008</td>\n",
       "      <td>0.0</td>\n",
       "      <td>0.0</td>\n",
       "      <td>2.0</td>\n",
       "      <td>0.0</td>\n",
       "      <td>0.0</td>\n",
       "      <td>0.0</td>\n",
       "      <td>0.5</td>\n",
       "      <td>6.0</td>\n",
       "      <td>3.0</td>\n",
       "      <td>...</td>\n",
       "      <td>24.0</td>\n",
       "      <td>NaN</td>\n",
       "      <td>20</td>\n",
       "      <td>NYK</td>\n",
       "      <td>New York</td>\n",
       "      <td>East</td>\n",
       "      <td>Atlantic</td>\n",
       "      <td>New York Knicks</td>\n",
       "      <td>Knicks</td>\n",
       "      <td>NaN</td>\n",
       "    </tr>\n",
       "    <tr>\n",
       "      <th>3</th>\n",
       "      <td>688025</td>\n",
       "      <td>0.0</td>\n",
       "      <td>0.0</td>\n",
       "      <td>0.0</td>\n",
       "      <td>0.0</td>\n",
       "      <td>1.0</td>\n",
       "      <td>0.0</td>\n",
       "      <td>0.0</td>\n",
       "      <td>3.0</td>\n",
       "      <td>0.0</td>\n",
       "      <td>...</td>\n",
       "      <td>16.0</td>\n",
       "      <td>NaN</td>\n",
       "      <td>12</td>\n",
       "      <td>IND</td>\n",
       "      <td>Indiana</td>\n",
       "      <td>East</td>\n",
       "      <td>Central</td>\n",
       "      <td>Indiana Pacers</td>\n",
       "      <td>Pacers</td>\n",
       "      <td>NaN</td>\n",
       "    </tr>\n",
       "    <tr>\n",
       "      <th>4</th>\n",
       "      <td>688022</td>\n",
       "      <td>1.0</td>\n",
       "      <td>0.0</td>\n",
       "      <td>7.0</td>\n",
       "      <td>0.0</td>\n",
       "      <td>1.0</td>\n",
       "      <td>0.0</td>\n",
       "      <td>0.5</td>\n",
       "      <td>8.0</td>\n",
       "      <td>4.0</td>\n",
       "      <td>...</td>\n",
       "      <td>11.0</td>\n",
       "      <td>NaN</td>\n",
       "      <td>12</td>\n",
       "      <td>IND</td>\n",
       "      <td>Indiana</td>\n",
       "      <td>East</td>\n",
       "      <td>Central</td>\n",
       "      <td>Indiana Pacers</td>\n",
       "      <td>Pacers</td>\n",
       "      <td>NaN</td>\n",
       "    </tr>\n",
       "    <tr>\n",
       "      <th>...</th>\n",
       "      <td>...</td>\n",
       "      <td>...</td>\n",
       "      <td>...</td>\n",
       "      <td>...</td>\n",
       "      <td>...</td>\n",
       "      <td>...</td>\n",
       "      <td>...</td>\n",
       "      <td>...</td>\n",
       "      <td>...</td>\n",
       "      <td>...</td>\n",
       "      <td>...</td>\n",
       "      <td>...</td>\n",
       "      <td>...</td>\n",
       "      <td>...</td>\n",
       "      <td>...</td>\n",
       "      <td>...</td>\n",
       "      <td>...</td>\n",
       "      <td>...</td>\n",
       "      <td>...</td>\n",
       "      <td>...</td>\n",
       "      <td>...</td>\n",
       "    </tr>\n",
       "    <tr>\n",
       "      <th>36501</th>\n",
       "      <td>12060846</td>\n",
       "      <td>0.0</td>\n",
       "      <td>0.0</td>\n",
       "      <td>1.0</td>\n",
       "      <td>0.0</td>\n",
       "      <td>0.0</td>\n",
       "      <td>0.0</td>\n",
       "      <td>0.0</td>\n",
       "      <td>0.0</td>\n",
       "      <td>0.0</td>\n",
       "      <td>...</td>\n",
       "      <td>10.0</td>\n",
       "      <td>234.0</td>\n",
       "      <td>10</td>\n",
       "      <td>GSW</td>\n",
       "      <td>Golden State</td>\n",
       "      <td>West</td>\n",
       "      <td>Pacific</td>\n",
       "      <td>Golden State Warriors</td>\n",
       "      <td>Warriors</td>\n",
       "      <td>NaN</td>\n",
       "    </tr>\n",
       "    <tr>\n",
       "      <th>36502</th>\n",
       "      <td>12060848</td>\n",
       "      <td>0.0</td>\n",
       "      <td>0.0</td>\n",
       "      <td>0.0</td>\n",
       "      <td>0.0</td>\n",
       "      <td>0.0</td>\n",
       "      <td>0.0</td>\n",
       "      <td>0.0</td>\n",
       "      <td>1.0</td>\n",
       "      <td>0.0</td>\n",
       "      <td>...</td>\n",
       "      <td>10.0</td>\n",
       "      <td>NaN</td>\n",
       "      <td>10</td>\n",
       "      <td>GSW</td>\n",
       "      <td>Golden State</td>\n",
       "      <td>West</td>\n",
       "      <td>Pacific</td>\n",
       "      <td>Golden State Warriors</td>\n",
       "      <td>Warriors</td>\n",
       "      <td>NaN</td>\n",
       "    </tr>\n",
       "    <tr>\n",
       "      <th>36503</th>\n",
       "      <td>12060849</td>\n",
       "      <td>0.0</td>\n",
       "      <td>0.0</td>\n",
       "      <td>0.0</td>\n",
       "      <td>0.0</td>\n",
       "      <td>1.0</td>\n",
       "      <td>0.0</td>\n",
       "      <td>0.0</td>\n",
       "      <td>1.0</td>\n",
       "      <td>0.0</td>\n",
       "      <td>...</td>\n",
       "      <td>10.0</td>\n",
       "      <td>210.0</td>\n",
       "      <td>10</td>\n",
       "      <td>GSW</td>\n",
       "      <td>Golden State</td>\n",
       "      <td>West</td>\n",
       "      <td>Pacific</td>\n",
       "      <td>Golden State Warriors</td>\n",
       "      <td>Warriors</td>\n",
       "      <td>NaN</td>\n",
       "    </tr>\n",
       "    <tr>\n",
       "      <th>36504</th>\n",
       "      <td>12060851</td>\n",
       "      <td>0.0</td>\n",
       "      <td>0.0</td>\n",
       "      <td>0.0</td>\n",
       "      <td>0.0</td>\n",
       "      <td>0.0</td>\n",
       "      <td>0.0</td>\n",
       "      <td>0.0</td>\n",
       "      <td>0.0</td>\n",
       "      <td>0.0</td>\n",
       "      <td>...</td>\n",
       "      <td>10.0</td>\n",
       "      <td>NaN</td>\n",
       "      <td>10</td>\n",
       "      <td>GSW</td>\n",
       "      <td>Golden State</td>\n",
       "      <td>West</td>\n",
       "      <td>Pacific</td>\n",
       "      <td>Golden State Warriors</td>\n",
       "      <td>Warriors</td>\n",
       "      <td>NaN</td>\n",
       "    </tr>\n",
       "    <tr>\n",
       "      <th>36505</th>\n",
       "      <td>12060854</td>\n",
       "      <td>0.0</td>\n",
       "      <td>0.0</td>\n",
       "      <td>0.0</td>\n",
       "      <td>0.0</td>\n",
       "      <td>0.0</td>\n",
       "      <td>0.0</td>\n",
       "      <td>0.0</td>\n",
       "      <td>0.0</td>\n",
       "      <td>0.0</td>\n",
       "      <td>...</td>\n",
       "      <td>10.0</td>\n",
       "      <td>NaN</td>\n",
       "      <td>10</td>\n",
       "      <td>GSW</td>\n",
       "      <td>Golden State</td>\n",
       "      <td>West</td>\n",
       "      <td>Pacific</td>\n",
       "      <td>Golden State Warriors</td>\n",
       "      <td>Warriors</td>\n",
       "      <td>NaN</td>\n",
       "    </tr>\n",
       "  </tbody>\n",
       "</table>\n",
       "<p>297353 rows × 47 columns</p>\n",
       "</div>"
      ],
      "text/plain": [
       "             id  ast  blk  dreb  fg3_pct  fg3a  fg3m  fg_pct  fga  fgm  ...  \\\n",
       "0        688007  0.0  0.0   0.0      0.0   0.0   0.0     0.0  1.0  0.0  ...   \n",
       "1        688004  3.0  1.0   7.0      0.0   0.0   0.0     0.5  8.0  4.0  ...   \n",
       "2        688008  0.0  0.0   2.0      0.0   0.0   0.0     0.5  6.0  3.0  ...   \n",
       "3        688025  0.0  0.0   0.0      0.0   1.0   0.0     0.0  3.0  0.0  ...   \n",
       "4        688022  1.0  0.0   7.0      0.0   1.0   0.0     0.5  8.0  4.0  ...   \n",
       "...         ...  ...  ...   ...      ...   ...   ...     ...  ...  ...  ...   \n",
       "36501  12060846  0.0  0.0   1.0      0.0   0.0   0.0     0.0  0.0  0.0  ...   \n",
       "36502  12060848  0.0  0.0   0.0      0.0   0.0   0.0     0.0  1.0  0.0  ...   \n",
       "36503  12060849  0.0  0.0   0.0      0.0   1.0   0.0     0.0  1.0  0.0  ...   \n",
       "36504  12060851  0.0  0.0   0.0      0.0   0.0   0.0     0.0  0.0  0.0  ...   \n",
       "36505  12060854  0.0  0.0   0.0      0.0   0.0   0.0     0.0  0.0  0.0  ...   \n",
       "\n",
       "       player.team_id  player.weight_pounds  team.id team.abbreviation  \\\n",
       "0                 3.0                   NaN       20               NYK   \n",
       "1                11.0                 240.0       20               NYK   \n",
       "2                24.0                   NaN       20               NYK   \n",
       "3                16.0                   NaN       12               IND   \n",
       "4                11.0                   NaN       12               IND   \n",
       "...               ...                   ...      ...               ...   \n",
       "36501            10.0                 234.0       10               GSW   \n",
       "36502            10.0                   NaN       10               GSW   \n",
       "36503            10.0                 210.0       10               GSW   \n",
       "36504            10.0                   NaN       10               GSW   \n",
       "36505            10.0                   NaN       10               GSW   \n",
       "\n",
       "          team.city  team.conference  team.division         team.full_name  \\\n",
       "0          New York             East       Atlantic        New York Knicks   \n",
       "1          New York             East       Atlantic        New York Knicks   \n",
       "2          New York             East       Atlantic        New York Knicks   \n",
       "3           Indiana             East        Central         Indiana Pacers   \n",
       "4           Indiana             East        Central         Indiana Pacers   \n",
       "...             ...              ...            ...                    ...   \n",
       "36501  Golden State             West        Pacific  Golden State Warriors   \n",
       "36502  Golden State             West        Pacific  Golden State Warriors   \n",
       "36503  Golden State             West        Pacific  Golden State Warriors   \n",
       "36504  Golden State             West        Pacific  Golden State Warriors   \n",
       "36505  Golden State             West        Pacific  Golden State Warriors   \n",
       "\n",
       "       team.name  player  \n",
       "0         Knicks     NaN  \n",
       "1         Knicks     NaN  \n",
       "2         Knicks     NaN  \n",
       "3         Pacers     NaN  \n",
       "4         Pacers     NaN  \n",
       "...          ...     ...  \n",
       "36501   Warriors     NaN  \n",
       "36502   Warriors     NaN  \n",
       "36503   Warriors     NaN  \n",
       "36504   Warriors     NaN  \n",
       "36505   Warriors     NaN  \n",
       "\n",
       "[297353 rows x 47 columns]"
      ]
     },
     "execution_count": 5,
     "metadata": {},
     "output_type": "execute_result"
    }
   ],
   "source": [
    "df_stats"
   ]
  },
  {
   "cell_type": "code",
   "execution_count": 6,
   "metadata": {},
   "outputs": [
    {
     "data": {
      "text/plain": [
       "Index(['id', 'date', 'home_team_score', 'period', 'postseason', 'season',\n",
       "       'status', 'time', 'visitor_team_score', 'home_team.id',\n",
       "       'home_team.abbreviation', 'home_team.city', 'home_team.conference',\n",
       "       'home_team.division', 'home_team.full_name', 'home_team.name',\n",
       "       'visitor_team.id', 'visitor_team.abbreviation', 'visitor_team.city',\n",
       "       'visitor_team.conference', 'visitor_team.division',\n",
       "       'visitor_team.full_name', 'visitor_team.name'],\n",
       "      dtype='object')"
      ]
     },
     "execution_count": 6,
     "metadata": {},
     "output_type": "execute_result"
    }
   ],
   "source": [
    "df_games.columns"
   ]
  },
  {
   "cell_type": "code",
   "execution_count": 7,
   "metadata": {},
   "outputs": [
    {
     "data": {
      "text/plain": [
       "Index(['id', 'ast', 'blk', 'dreb', 'fg3_pct', 'fg3a', 'fg3m', 'fg_pct', 'fga',\n",
       "       'fgm', 'ft_pct', 'fta', 'ftm', 'min', 'oreb', 'pf', 'pts', 'reb', 'stl',\n",
       "       'turnover', 'game.id', 'game.date', 'game.home_team_id',\n",
       "       'game.home_team_score', 'game.period', 'game.postseason', 'game.season',\n",
       "       'game.status', 'game.time', 'game.visitor_team_id',\n",
       "       'game.visitor_team_score', 'player.id', 'player.first_name',\n",
       "       'player.height_feet', 'player.height_inches', 'player.last_name',\n",
       "       'player.position', 'player.team_id', 'player.weight_pounds', 'team.id',\n",
       "       'team.abbreviation', 'team.city', 'team.conference', 'team.division',\n",
       "       'team.full_name', 'team.name', 'player'],\n",
       "      dtype='object')"
      ]
     },
     "execution_count": 7,
     "metadata": {},
     "output_type": "execute_result"
    }
   ],
   "source": [
    "df_stats.columns"
   ]
  },
  {
   "cell_type": "code",
   "execution_count": 8,
   "metadata": {},
   "outputs": [],
   "source": [
    "df = df_games.copy()"
   ]
  },
  {
   "cell_type": "code",
   "execution_count": 9,
   "metadata": {},
   "outputs": [],
   "source": [
    "df['home_team_diff'] = df['home_team_score'] - df['visitor_team_score']\n",
    "df['visitor_team_diff'] = df['visitor_team_score'] - df['home_team_score']"
   ]
  },
  {
   "cell_type": "code",
   "execution_count": 10,
   "metadata": {},
   "outputs": [],
   "source": [
    "df['winner'] = np.where(df['home_team_score'] > df['visitor_team_score'], 'Home', 'Visitor')\n"
   ]
  },
  {
   "cell_type": "code",
   "execution_count": 11,
   "metadata": {},
   "outputs": [
    {
     "data": {
      "text/html": [
       "<div>\n",
       "<style scoped>\n",
       "    .dataframe tbody tr th:only-of-type {\n",
       "        vertical-align: middle;\n",
       "    }\n",
       "\n",
       "    .dataframe tbody tr th {\n",
       "        vertical-align: top;\n",
       "    }\n",
       "\n",
       "    .dataframe thead th {\n",
       "        text-align: right;\n",
       "    }\n",
       "</style>\n",
       "<table border=\"1\" class=\"dataframe\">\n",
       "  <thead>\n",
       "    <tr style=\"text-align: right;\">\n",
       "      <th></th>\n",
       "      <th>id</th>\n",
       "      <th>date</th>\n",
       "      <th>home_team_score</th>\n",
       "      <th>period</th>\n",
       "      <th>postseason</th>\n",
       "      <th>season</th>\n",
       "      <th>status</th>\n",
       "      <th>time</th>\n",
       "      <th>visitor_team_score</th>\n",
       "      <th>home_team.id</th>\n",
       "      <th>...</th>\n",
       "      <th>visitor_team.id</th>\n",
       "      <th>visitor_team.abbreviation</th>\n",
       "      <th>visitor_team.city</th>\n",
       "      <th>visitor_team.conference</th>\n",
       "      <th>visitor_team.division</th>\n",
       "      <th>visitor_team.full_name</th>\n",
       "      <th>visitor_team.name</th>\n",
       "      <th>home_team_diff</th>\n",
       "      <th>visitor_team_diff</th>\n",
       "      <th>winner</th>\n",
       "    </tr>\n",
       "  </thead>\n",
       "  <tbody>\n",
       "    <tr>\n",
       "      <th>0</th>\n",
       "      <td>21169</td>\n",
       "      <td>2008-12-20T00:00:00.000Z</td>\n",
       "      <td>94</td>\n",
       "      <td>4</td>\n",
       "      <td>False</td>\n",
       "      <td>2008</td>\n",
       "      <td>Final</td>\n",
       "      <td></td>\n",
       "      <td>95</td>\n",
       "      <td>23</td>\n",
       "      <td>...</td>\n",
       "      <td>12</td>\n",
       "      <td>IND</td>\n",
       "      <td>Indiana</td>\n",
       "      <td>East</td>\n",
       "      <td>Central</td>\n",
       "      <td>Indiana Pacers</td>\n",
       "      <td>Pacers</td>\n",
       "      <td>-1</td>\n",
       "      <td>1</td>\n",
       "      <td>Visitor</td>\n",
       "    </tr>\n",
       "    <tr>\n",
       "      <th>1</th>\n",
       "      <td>21170</td>\n",
       "      <td>2008-12-21T00:00:00.000Z</td>\n",
       "      <td>85</td>\n",
       "      <td>4</td>\n",
       "      <td>False</td>\n",
       "      <td>2008</td>\n",
       "      <td>Final</td>\n",
       "      <td></td>\n",
       "      <td>78</td>\n",
       "      <td>1</td>\n",
       "      <td>...</td>\n",
       "      <td>9</td>\n",
       "      <td>DET</td>\n",
       "      <td>Detroit</td>\n",
       "      <td>East</td>\n",
       "      <td>Central</td>\n",
       "      <td>Detroit Pistons</td>\n",
       "      <td>Pistons</td>\n",
       "      <td>7</td>\n",
       "      <td>-7</td>\n",
       "      <td>Home</td>\n",
       "    </tr>\n",
       "    <tr>\n",
       "      <th>2</th>\n",
       "      <td>21171</td>\n",
       "      <td>2008-12-22T00:00:00.000Z</td>\n",
       "      <td>113</td>\n",
       "      <td>4</td>\n",
       "      <td>False</td>\n",
       "      <td>2008</td>\n",
       "      <td>Final</td>\n",
       "      <td></td>\n",
       "      <td>81</td>\n",
       "      <td>22</td>\n",
       "      <td>...</td>\n",
       "      <td>10</td>\n",
       "      <td>GSW</td>\n",
       "      <td>Golden State</td>\n",
       "      <td>West</td>\n",
       "      <td>Pacific</td>\n",
       "      <td>Golden State Warriors</td>\n",
       "      <td>Warriors</td>\n",
       "      <td>32</td>\n",
       "      <td>-32</td>\n",
       "      <td>Home</td>\n",
       "    </tr>\n",
       "    <tr>\n",
       "      <th>3</th>\n",
       "      <td>21172</td>\n",
       "      <td>2008-12-23T00:00:00.000Z</td>\n",
       "      <td>110</td>\n",
       "      <td>4</td>\n",
       "      <td>False</td>\n",
       "      <td>2008</td>\n",
       "      <td>Final</td>\n",
       "      <td></td>\n",
       "      <td>91</td>\n",
       "      <td>2</td>\n",
       "      <td>...</td>\n",
       "      <td>23</td>\n",
       "      <td>PHI</td>\n",
       "      <td>Philadelphia</td>\n",
       "      <td>East</td>\n",
       "      <td>Atlantic</td>\n",
       "      <td>Philadelphia 76ers</td>\n",
       "      <td>76ers</td>\n",
       "      <td>19</td>\n",
       "      <td>-19</td>\n",
       "      <td>Home</td>\n",
       "    </tr>\n",
       "    <tr>\n",
       "      <th>4</th>\n",
       "      <td>21173</td>\n",
       "      <td>2008-12-26T00:00:00.000Z</td>\n",
       "      <td>97</td>\n",
       "      <td>4</td>\n",
       "      <td>False</td>\n",
       "      <td>2008</td>\n",
       "      <td>Final</td>\n",
       "      <td></td>\n",
       "      <td>88</td>\n",
       "      <td>29</td>\n",
       "      <td>...</td>\n",
       "      <td>7</td>\n",
       "      <td>DAL</td>\n",
       "      <td>Dallas</td>\n",
       "      <td>West</td>\n",
       "      <td>Southwest</td>\n",
       "      <td>Dallas Mavericks</td>\n",
       "      <td>Mavericks</td>\n",
       "      <td>9</td>\n",
       "      <td>-9</td>\n",
       "      <td>Home</td>\n",
       "    </tr>\n",
       "    <tr>\n",
       "      <th>...</th>\n",
       "      <td>...</td>\n",
       "      <td>...</td>\n",
       "      <td>...</td>\n",
       "      <td>...</td>\n",
       "      <td>...</td>\n",
       "      <td>...</td>\n",
       "      <td>...</td>\n",
       "      <td>...</td>\n",
       "      <td>...</td>\n",
       "      <td>...</td>\n",
       "      <td>...</td>\n",
       "      <td>...</td>\n",
       "      <td>...</td>\n",
       "      <td>...</td>\n",
       "      <td>...</td>\n",
       "      <td>...</td>\n",
       "      <td>...</td>\n",
       "      <td>...</td>\n",
       "      <td>...</td>\n",
       "      <td>...</td>\n",
       "      <td>...</td>\n",
       "    </tr>\n",
       "    <tr>\n",
       "      <th>1411</th>\n",
       "      <td>854588</td>\n",
       "      <td>2022-05-26T00:00:00.000Z</td>\n",
       "      <td>120</td>\n",
       "      <td>4</td>\n",
       "      <td>True</td>\n",
       "      <td>2021</td>\n",
       "      <td>Final</td>\n",
       "      <td>NaN</td>\n",
       "      <td>110</td>\n",
       "      <td>10</td>\n",
       "      <td>...</td>\n",
       "      <td>7</td>\n",
       "      <td>DAL</td>\n",
       "      <td>Dallas</td>\n",
       "      <td>West</td>\n",
       "      <td>Southwest</td>\n",
       "      <td>Dallas Mavericks</td>\n",
       "      <td>Mavericks</td>\n",
       "      <td>10</td>\n",
       "      <td>-10</td>\n",
       "      <td>Home</td>\n",
       "    </tr>\n",
       "    <tr>\n",
       "      <th>1412</th>\n",
       "      <td>854012</td>\n",
       "      <td>2022-05-24T00:00:00.000Z</td>\n",
       "      <td>119</td>\n",
       "      <td>4</td>\n",
       "      <td>True</td>\n",
       "      <td>2021</td>\n",
       "      <td>Final</td>\n",
       "      <td>NaN</td>\n",
       "      <td>109</td>\n",
       "      <td>7</td>\n",
       "      <td>...</td>\n",
       "      <td>10</td>\n",
       "      <td>GSW</td>\n",
       "      <td>Golden State</td>\n",
       "      <td>West</td>\n",
       "      <td>Pacific</td>\n",
       "      <td>Golden State Warriors</td>\n",
       "      <td>Warriors</td>\n",
       "      <td>10</td>\n",
       "      <td>-10</td>\n",
       "      <td>Home</td>\n",
       "    </tr>\n",
       "    <tr>\n",
       "      <th>1413</th>\n",
       "      <td>856459</td>\n",
       "      <td>2022-06-10T00:00:00.000Z</td>\n",
       "      <td>97</td>\n",
       "      <td>4</td>\n",
       "      <td>True</td>\n",
       "      <td>2021</td>\n",
       "      <td>Final</td>\n",
       "      <td>NaN</td>\n",
       "      <td>107</td>\n",
       "      <td>2</td>\n",
       "      <td>...</td>\n",
       "      <td>10</td>\n",
       "      <td>GSW</td>\n",
       "      <td>Golden State</td>\n",
       "      <td>West</td>\n",
       "      <td>Pacific</td>\n",
       "      <td>Golden State Warriors</td>\n",
       "      <td>Warriors</td>\n",
       "      <td>-10</td>\n",
       "      <td>10</td>\n",
       "      <td>Visitor</td>\n",
       "    </tr>\n",
       "    <tr>\n",
       "      <th>1414</th>\n",
       "      <td>856779</td>\n",
       "      <td>2022-06-13T00:00:00.000Z</td>\n",
       "      <td>104</td>\n",
       "      <td>4</td>\n",
       "      <td>True</td>\n",
       "      <td>2021</td>\n",
       "      <td>Final</td>\n",
       "      <td>NaN</td>\n",
       "      <td>84</td>\n",
       "      <td>10</td>\n",
       "      <td>...</td>\n",
       "      <td>2</td>\n",
       "      <td>BOS</td>\n",
       "      <td>Boston</td>\n",
       "      <td>East</td>\n",
       "      <td>Atlantic</td>\n",
       "      <td>Boston Celtics</td>\n",
       "      <td>Celtics</td>\n",
       "      <td>20</td>\n",
       "      <td>-20</td>\n",
       "      <td>Home</td>\n",
       "    </tr>\n",
       "    <tr>\n",
       "      <th>1415</th>\n",
       "      <td>856171</td>\n",
       "      <td>2022-06-08T00:00:00.000Z</td>\n",
       "      <td>116</td>\n",
       "      <td>4</td>\n",
       "      <td>True</td>\n",
       "      <td>2021</td>\n",
       "      <td>Final</td>\n",
       "      <td>NaN</td>\n",
       "      <td>100</td>\n",
       "      <td>2</td>\n",
       "      <td>...</td>\n",
       "      <td>10</td>\n",
       "      <td>GSW</td>\n",
       "      <td>Golden State</td>\n",
       "      <td>West</td>\n",
       "      <td>Pacific</td>\n",
       "      <td>Golden State Warriors</td>\n",
       "      <td>Warriors</td>\n",
       "      <td>16</td>\n",
       "      <td>-16</td>\n",
       "      <td>Home</td>\n",
       "    </tr>\n",
       "  </tbody>\n",
       "</table>\n",
       "<p>17934 rows × 26 columns</p>\n",
       "</div>"
      ],
      "text/plain": [
       "          id                      date  home_team_score  period  postseason  \\\n",
       "0      21169  2008-12-20T00:00:00.000Z               94       4       False   \n",
       "1      21170  2008-12-21T00:00:00.000Z               85       4       False   \n",
       "2      21171  2008-12-22T00:00:00.000Z              113       4       False   \n",
       "3      21172  2008-12-23T00:00:00.000Z              110       4       False   \n",
       "4      21173  2008-12-26T00:00:00.000Z               97       4       False   \n",
       "...      ...                       ...              ...     ...         ...   \n",
       "1411  854588  2022-05-26T00:00:00.000Z              120       4        True   \n",
       "1412  854012  2022-05-24T00:00:00.000Z              119       4        True   \n",
       "1413  856459  2022-06-10T00:00:00.000Z               97       4        True   \n",
       "1414  856779  2022-06-13T00:00:00.000Z              104       4        True   \n",
       "1415  856171  2022-06-08T00:00:00.000Z              116       4        True   \n",
       "\n",
       "      season status time  visitor_team_score  home_team.id  ...  \\\n",
       "0       2008  Final                       95            23  ...   \n",
       "1       2008  Final                       78             1  ...   \n",
       "2       2008  Final                       81            22  ...   \n",
       "3       2008  Final                       91             2  ...   \n",
       "4       2008  Final                       88            29  ...   \n",
       "...      ...    ...  ...                 ...           ...  ...   \n",
       "1411    2021  Final  NaN                 110            10  ...   \n",
       "1412    2021  Final  NaN                 109             7  ...   \n",
       "1413    2021  Final  NaN                 107             2  ...   \n",
       "1414    2021  Final  NaN                  84            10  ...   \n",
       "1415    2021  Final  NaN                 100             2  ...   \n",
       "\n",
       "     visitor_team.id visitor_team.abbreviation visitor_team.city  \\\n",
       "0                 12                       IND           Indiana   \n",
       "1                  9                       DET           Detroit   \n",
       "2                 10                       GSW      Golden State   \n",
       "3                 23                       PHI      Philadelphia   \n",
       "4                  7                       DAL            Dallas   \n",
       "...              ...                       ...               ...   \n",
       "1411               7                       DAL            Dallas   \n",
       "1412              10                       GSW      Golden State   \n",
       "1413              10                       GSW      Golden State   \n",
       "1414               2                       BOS            Boston   \n",
       "1415              10                       GSW      Golden State   \n",
       "\n",
       "     visitor_team.conference visitor_team.division visitor_team.full_name  \\\n",
       "0                       East               Central         Indiana Pacers   \n",
       "1                       East               Central        Detroit Pistons   \n",
       "2                       West               Pacific  Golden State Warriors   \n",
       "3                       East              Atlantic     Philadelphia 76ers   \n",
       "4                       West             Southwest       Dallas Mavericks   \n",
       "...                      ...                   ...                    ...   \n",
       "1411                    West             Southwest       Dallas Mavericks   \n",
       "1412                    West               Pacific  Golden State Warriors   \n",
       "1413                    West               Pacific  Golden State Warriors   \n",
       "1414                    East              Atlantic         Boston Celtics   \n",
       "1415                    West               Pacific  Golden State Warriors   \n",
       "\n",
       "      visitor_team.name home_team_diff visitor_team_diff   winner  \n",
       "0                Pacers             -1                 1  Visitor  \n",
       "1               Pistons              7                -7     Home  \n",
       "2              Warriors             32               -32     Home  \n",
       "3                 76ers             19               -19     Home  \n",
       "4             Mavericks              9                -9     Home  \n",
       "...                 ...            ...               ...      ...  \n",
       "1411          Mavericks             10               -10     Home  \n",
       "1412           Warriors             10               -10     Home  \n",
       "1413           Warriors            -10                10  Visitor  \n",
       "1414            Celtics             20               -20     Home  \n",
       "1415           Warriors             16               -16     Home  \n",
       "\n",
       "[17934 rows x 26 columns]"
      ]
     },
     "execution_count": 11,
     "metadata": {},
     "output_type": "execute_result"
    }
   ],
   "source": [
    "df"
   ]
  },
  {
   "cell_type": "code",
   "execution_count": 12,
   "metadata": {},
   "outputs": [
    {
     "data": {
      "text/html": [
       "<div>\n",
       "<style scoped>\n",
       "    .dataframe tbody tr th:only-of-type {\n",
       "        vertical-align: middle;\n",
       "    }\n",
       "\n",
       "    .dataframe tbody tr th {\n",
       "        vertical-align: top;\n",
       "    }\n",
       "\n",
       "    .dataframe thead th {\n",
       "        text-align: right;\n",
       "    }\n",
       "</style>\n",
       "<table border=\"1\" class=\"dataframe\">\n",
       "  <thead>\n",
       "    <tr style=\"text-align: right;\">\n",
       "      <th></th>\n",
       "      <th>team</th>\n",
       "      <th>team_season</th>\n",
       "      <th>home avg score</th>\n",
       "      <th>home avg opponent score</th>\n",
       "    </tr>\n",
       "  </thead>\n",
       "  <tbody>\n",
       "    <tr>\n",
       "      <th>0</th>\n",
       "      <td>ATL</td>\n",
       "      <td>ATL_2008</td>\n",
       "      <td>97.468085</td>\n",
       "      <td>92.212766</td>\n",
       "    </tr>\n",
       "    <tr>\n",
       "      <th>1</th>\n",
       "      <td>ATL</td>\n",
       "      <td>ATL_2009</td>\n",
       "      <td>102.659574</td>\n",
       "      <td>95.382979</td>\n",
       "    </tr>\n",
       "    <tr>\n",
       "      <th>2</th>\n",
       "      <td>ATL</td>\n",
       "      <td>ATL_2010</td>\n",
       "      <td>93.851064</td>\n",
       "      <td>94.914894</td>\n",
       "    </tr>\n",
       "    <tr>\n",
       "      <th>3</th>\n",
       "      <td>ATL</td>\n",
       "      <td>ATL_2011</td>\n",
       "      <td>97.777778</td>\n",
       "      <td>93.222222</td>\n",
       "    </tr>\n",
       "    <tr>\n",
       "      <th>4</th>\n",
       "      <td>ATL</td>\n",
       "      <td>ATL_2012</td>\n",
       "      <td>98.636364</td>\n",
       "      <td>97.090909</td>\n",
       "    </tr>\n",
       "  </tbody>\n",
       "</table>\n",
       "</div>"
      ],
      "text/plain": [
       "  team team_season  home avg score  home avg opponent score\n",
       "0  ATL    ATL_2008       97.468085                92.212766\n",
       "1  ATL    ATL_2009      102.659574                95.382979\n",
       "2  ATL    ATL_2010       93.851064                94.914894\n",
       "3  ATL    ATL_2011       97.777778                93.222222\n",
       "4  ATL    ATL_2012       98.636364                97.090909"
      ]
     },
     "execution_count": 12,
     "metadata": {},
     "output_type": "execute_result"
    }
   ],
   "source": [
    "df_home = df_games.copy()\n",
    "df_home['team_season'] = df_home['home_team.abbreviation'] + \"_\" + df_home['season'].astype(str)\n",
    "df_home = df_home[['home_team.abbreviation','team_season','home_team_score','visitor_team_score']]\n",
    "df_home = df_home.groupby(['home_team.abbreviation','team_season'])[['home_team_score','visitor_team_score']].mean().reset_index()\n",
    "df_home = df_home.rename(columns={'home_team.abbreviation':\"team\",\"home_team_score\": \"home avg score\", \"visitor_team_score\":\"home avg opponent score\"})\n",
    "df_home.head()"
   ]
  },
  {
   "cell_type": "code",
   "execution_count": 13,
   "metadata": {},
   "outputs": [
    {
     "data": {
      "text/html": [
       "<div>\n",
       "<style scoped>\n",
       "    .dataframe tbody tr th:only-of-type {\n",
       "        vertical-align: middle;\n",
       "    }\n",
       "\n",
       "    .dataframe tbody tr th {\n",
       "        vertical-align: top;\n",
       "    }\n",
       "\n",
       "    .dataframe thead th {\n",
       "        text-align: right;\n",
       "    }\n",
       "</style>\n",
       "<table border=\"1\" class=\"dataframe\">\n",
       "  <thead>\n",
       "    <tr style=\"text-align: right;\">\n",
       "      <th></th>\n",
       "      <th>team</th>\n",
       "      <th>team_season</th>\n",
       "      <th>away avg score</th>\n",
       "      <th>away avg opponent score</th>\n",
       "    </tr>\n",
       "  </thead>\n",
       "  <tbody>\n",
       "    <tr>\n",
       "      <th>0</th>\n",
       "      <td>ATL</td>\n",
       "      <td>ATL_2008</td>\n",
       "      <td>95.413043</td>\n",
       "      <td>99.673913</td>\n",
       "    </tr>\n",
       "    <tr>\n",
       "      <th>1</th>\n",
       "      <td>ATL</td>\n",
       "      <td>ATL_2009</td>\n",
       "      <td>97.760870</td>\n",
       "      <td>98.521739</td>\n",
       "    </tr>\n",
       "    <tr>\n",
       "      <th>2</th>\n",
       "      <td>ATL</td>\n",
       "      <td>ATL_2010</td>\n",
       "      <td>93.914894</td>\n",
       "      <td>95.404255</td>\n",
       "    </tr>\n",
       "    <tr>\n",
       "      <th>3</th>\n",
       "      <td>ATL</td>\n",
       "      <td>ATL_2011</td>\n",
       "      <td>93.000000</td>\n",
       "      <td>92.027778</td>\n",
       "    </tr>\n",
       "    <tr>\n",
       "      <th>4</th>\n",
       "      <td>ATL</td>\n",
       "      <td>ATL_2012</td>\n",
       "      <td>96.090909</td>\n",
       "      <td>97.590909</td>\n",
       "    </tr>\n",
       "  </tbody>\n",
       "</table>\n",
       "</div>"
      ],
      "text/plain": [
       "  team team_season  away avg score  away avg opponent score\n",
       "0  ATL    ATL_2008       95.413043                99.673913\n",
       "1  ATL    ATL_2009       97.760870                98.521739\n",
       "2  ATL    ATL_2010       93.914894                95.404255\n",
       "3  ATL    ATL_2011       93.000000                92.027778\n",
       "4  ATL    ATL_2012       96.090909                97.590909"
      ]
     },
     "execution_count": 13,
     "metadata": {},
     "output_type": "execute_result"
    }
   ],
   "source": [
    "df_away = df_games.copy()\n",
    "df_away['team_season'] = df_away['visitor_team.abbreviation'] + \"_\" + df_away['season'].astype(str)\n",
    "df_away = df_away[['visitor_team.abbreviation','team_season','visitor_team_score','home_team_score']]\n",
    "df_away = df_away.groupby(['visitor_team.abbreviation','team_season'])[['visitor_team_score','home_team_score']].mean().reset_index()\n",
    "df_away = df_away.rename(columns={\"visitor_team.abbreviation\":\"team\",\"visitor_team_score\": \"away avg score\", \"home_team_score\":\"away avg opponent score\"})\n",
    "df_away.head()"
   ]
  },
  {
   "cell_type": "code",
   "execution_count": 14,
   "metadata": {},
   "outputs": [],
   "source": [
    "df_scores = pd.merge(df_home, df_away, on=['team','team_season'])\n",
    "df_scores['avg score'] = (df_scores['home avg score'] + df_scores['away avg score']) / 2\n",
    "df_scores['avg opp score'] = (df_scores['home avg opponent score'] + df_scores['away avg opponent score']) / 2\n",
    "df_scores['avg home diff'] = df_scores['home avg score'] - df_scores['home avg opponent score']\n",
    "df_scores['avg away diff'] = df_scores['away avg score'] - df_scores['away avg opponent score']\n",
    "df_scores['avg diff'] = df_scores['avg score'] - df_scores['avg opp score']\n",
    "df_scores['diff differential'] = df_scores['avg home diff'] - df_scores['avg away diff']"
   ]
  },
  {
   "cell_type": "code",
   "execution_count": 15,
   "metadata": {},
   "outputs": [
    {
     "data": {
      "text/html": [
       "<div>\n",
       "<style scoped>\n",
       "    .dataframe tbody tr th:only-of-type {\n",
       "        vertical-align: middle;\n",
       "    }\n",
       "\n",
       "    .dataframe tbody tr th {\n",
       "        vertical-align: top;\n",
       "    }\n",
       "\n",
       "    .dataframe thead th {\n",
       "        text-align: right;\n",
       "    }\n",
       "</style>\n",
       "<table border=\"1\" class=\"dataframe\">\n",
       "  <thead>\n",
       "    <tr style=\"text-align: right;\">\n",
       "      <th></th>\n",
       "      <th>team</th>\n",
       "      <th>team_season</th>\n",
       "      <th>home avg score</th>\n",
       "      <th>home avg opponent score</th>\n",
       "      <th>away avg score</th>\n",
       "      <th>away avg opponent score</th>\n",
       "      <th>avg score</th>\n",
       "      <th>avg opp score</th>\n",
       "      <th>avg home diff</th>\n",
       "      <th>avg away diff</th>\n",
       "      <th>avg diff</th>\n",
       "      <th>diff differential</th>\n",
       "    </tr>\n",
       "  </thead>\n",
       "  <tbody>\n",
       "    <tr>\n",
       "      <th>0</th>\n",
       "      <td>ATL</td>\n",
       "      <td>ATL_2008</td>\n",
       "      <td>97.468085</td>\n",
       "      <td>92.212766</td>\n",
       "      <td>95.413043</td>\n",
       "      <td>99.673913</td>\n",
       "      <td>96.440564</td>\n",
       "      <td>95.943340</td>\n",
       "      <td>5.255319</td>\n",
       "      <td>-4.260870</td>\n",
       "      <td>0.497225</td>\n",
       "      <td>9.516189</td>\n",
       "    </tr>\n",
       "    <tr>\n",
       "      <th>1</th>\n",
       "      <td>ATL</td>\n",
       "      <td>ATL_2009</td>\n",
       "      <td>102.659574</td>\n",
       "      <td>95.382979</td>\n",
       "      <td>97.760870</td>\n",
       "      <td>98.521739</td>\n",
       "      <td>100.210222</td>\n",
       "      <td>96.952359</td>\n",
       "      <td>7.276596</td>\n",
       "      <td>-0.760870</td>\n",
       "      <td>3.257863</td>\n",
       "      <td>8.037465</td>\n",
       "    </tr>\n",
       "    <tr>\n",
       "      <th>2</th>\n",
       "      <td>ATL</td>\n",
       "      <td>ATL_2010</td>\n",
       "      <td>93.851064</td>\n",
       "      <td>94.914894</td>\n",
       "      <td>93.914894</td>\n",
       "      <td>95.404255</td>\n",
       "      <td>93.882979</td>\n",
       "      <td>95.159574</td>\n",
       "      <td>-1.063830</td>\n",
       "      <td>-1.489362</td>\n",
       "      <td>-1.276596</td>\n",
       "      <td>0.425532</td>\n",
       "    </tr>\n",
       "    <tr>\n",
       "      <th>3</th>\n",
       "      <td>ATL</td>\n",
       "      <td>ATL_2011</td>\n",
       "      <td>97.777778</td>\n",
       "      <td>93.222222</td>\n",
       "      <td>93.000000</td>\n",
       "      <td>92.027778</td>\n",
       "      <td>95.388889</td>\n",
       "      <td>92.625000</td>\n",
       "      <td>4.555556</td>\n",
       "      <td>0.972222</td>\n",
       "      <td>2.763889</td>\n",
       "      <td>3.583333</td>\n",
       "    </tr>\n",
       "    <tr>\n",
       "      <th>4</th>\n",
       "      <td>ATL</td>\n",
       "      <td>ATL_2012</td>\n",
       "      <td>98.636364</td>\n",
       "      <td>97.090909</td>\n",
       "      <td>96.090909</td>\n",
       "      <td>97.590909</td>\n",
       "      <td>97.363636</td>\n",
       "      <td>97.340909</td>\n",
       "      <td>1.545455</td>\n",
       "      <td>-1.500000</td>\n",
       "      <td>0.022727</td>\n",
       "      <td>3.045455</td>\n",
       "    </tr>\n",
       "    <tr>\n",
       "      <th>...</th>\n",
       "      <td>...</td>\n",
       "      <td>...</td>\n",
       "      <td>...</td>\n",
       "      <td>...</td>\n",
       "      <td>...</td>\n",
       "      <td>...</td>\n",
       "      <td>...</td>\n",
       "      <td>...</td>\n",
       "      <td>...</td>\n",
       "      <td>...</td>\n",
       "      <td>...</td>\n",
       "      <td>...</td>\n",
       "    </tr>\n",
       "    <tr>\n",
       "      <th>415</th>\n",
       "      <td>WAS</td>\n",
       "      <td>WAS_2017</td>\n",
       "      <td>108.363636</td>\n",
       "      <td>105.000000</td>\n",
       "      <td>104.931818</td>\n",
       "      <td>107.477273</td>\n",
       "      <td>106.647727</td>\n",
       "      <td>106.238636</td>\n",
       "      <td>3.363636</td>\n",
       "      <td>-2.545455</td>\n",
       "      <td>0.409091</td>\n",
       "      <td>5.909091</td>\n",
       "    </tr>\n",
       "    <tr>\n",
       "      <th>416</th>\n",
       "      <td>WAS</td>\n",
       "      <td>WAS_2018</td>\n",
       "      <td>116.414634</td>\n",
       "      <td>114.658537</td>\n",
       "      <td>111.634146</td>\n",
       "      <td>119.195122</td>\n",
       "      <td>114.024390</td>\n",
       "      <td>116.926829</td>\n",
       "      <td>1.756098</td>\n",
       "      <td>-7.560976</td>\n",
       "      <td>-2.902439</td>\n",
       "      <td>9.317073</td>\n",
       "    </tr>\n",
       "    <tr>\n",
       "      <th>417</th>\n",
       "      <td>WAS</td>\n",
       "      <td>WAS_2019</td>\n",
       "      <td>114.000000</td>\n",
       "      <td>115.861111</td>\n",
       "      <td>114.833333</td>\n",
       "      <td>122.305556</td>\n",
       "      <td>114.416667</td>\n",
       "      <td>119.083333</td>\n",
       "      <td>-1.861111</td>\n",
       "      <td>-7.472222</td>\n",
       "      <td>-4.666667</td>\n",
       "      <td>5.611111</td>\n",
       "    </tr>\n",
       "    <tr>\n",
       "      <th>418</th>\n",
       "      <td>WAS</td>\n",
       "      <td>WAS_2020</td>\n",
       "      <td>119.256410</td>\n",
       "      <td>119.179487</td>\n",
       "      <td>113.475000</td>\n",
       "      <td>118.375000</td>\n",
       "      <td>116.365705</td>\n",
       "      <td>118.777244</td>\n",
       "      <td>0.076923</td>\n",
       "      <td>-4.900000</td>\n",
       "      <td>-2.411538</td>\n",
       "      <td>4.976923</td>\n",
       "    </tr>\n",
       "    <tr>\n",
       "      <th>419</th>\n",
       "      <td>WAS</td>\n",
       "      <td>WAS_2021</td>\n",
       "      <td>109.568182</td>\n",
       "      <td>110.454545</td>\n",
       "      <td>97.454545</td>\n",
       "      <td>101.863636</td>\n",
       "      <td>103.511364</td>\n",
       "      <td>106.159091</td>\n",
       "      <td>-0.886364</td>\n",
       "      <td>-4.409091</td>\n",
       "      <td>-2.647727</td>\n",
       "      <td>3.522727</td>\n",
       "    </tr>\n",
       "  </tbody>\n",
       "</table>\n",
       "<p>420 rows × 12 columns</p>\n",
       "</div>"
      ],
      "text/plain": [
       "    team team_season  home avg score  home avg opponent score  away avg score  \\\n",
       "0    ATL    ATL_2008       97.468085                92.212766       95.413043   \n",
       "1    ATL    ATL_2009      102.659574                95.382979       97.760870   \n",
       "2    ATL    ATL_2010       93.851064                94.914894       93.914894   \n",
       "3    ATL    ATL_2011       97.777778                93.222222       93.000000   \n",
       "4    ATL    ATL_2012       98.636364                97.090909       96.090909   \n",
       "..   ...         ...             ...                      ...             ...   \n",
       "415  WAS    WAS_2017      108.363636               105.000000      104.931818   \n",
       "416  WAS    WAS_2018      116.414634               114.658537      111.634146   \n",
       "417  WAS    WAS_2019      114.000000               115.861111      114.833333   \n",
       "418  WAS    WAS_2020      119.256410               119.179487      113.475000   \n",
       "419  WAS    WAS_2021      109.568182               110.454545       97.454545   \n",
       "\n",
       "     away avg opponent score   avg score  avg opp score  avg home diff  \\\n",
       "0                  99.673913   96.440564      95.943340       5.255319   \n",
       "1                  98.521739  100.210222      96.952359       7.276596   \n",
       "2                  95.404255   93.882979      95.159574      -1.063830   \n",
       "3                  92.027778   95.388889      92.625000       4.555556   \n",
       "4                  97.590909   97.363636      97.340909       1.545455   \n",
       "..                       ...         ...            ...            ...   \n",
       "415               107.477273  106.647727     106.238636       3.363636   \n",
       "416               119.195122  114.024390     116.926829       1.756098   \n",
       "417               122.305556  114.416667     119.083333      -1.861111   \n",
       "418               118.375000  116.365705     118.777244       0.076923   \n",
       "419               101.863636  103.511364     106.159091      -0.886364   \n",
       "\n",
       "     avg away diff  avg diff  diff differential  \n",
       "0        -4.260870  0.497225           9.516189  \n",
       "1        -0.760870  3.257863           8.037465  \n",
       "2        -1.489362 -1.276596           0.425532  \n",
       "3         0.972222  2.763889           3.583333  \n",
       "4        -1.500000  0.022727           3.045455  \n",
       "..             ...       ...                ...  \n",
       "415      -2.545455  0.409091           5.909091  \n",
       "416      -7.560976 -2.902439           9.317073  \n",
       "417      -7.472222 -4.666667           5.611111  \n",
       "418      -4.900000 -2.411538           4.976923  \n",
       "419      -4.409091 -2.647727           3.522727  \n",
       "\n",
       "[420 rows x 12 columns]"
      ]
     },
     "execution_count": 15,
     "metadata": {},
     "output_type": "execute_result"
    }
   ],
   "source": [
    "df_scores"
   ]
  },
  {
   "cell_type": "code",
   "execution_count": 16,
   "metadata": {},
   "outputs": [
    {
     "data": {
      "application/vnd.plotly.v1+json": {
       "config": {
        "plotlyServerURL": "https://plot.ly"
       },
       "data": [
        {
         "hovertext": [
          "ATL_2008",
          "ATL_2009",
          "ATL_2010",
          "ATL_2011",
          "ATL_2012",
          "ATL_2013",
          "ATL_2014",
          "ATL_2015",
          "ATL_2016",
          "ATL_2017",
          "ATL_2018",
          "ATL_2019",
          "ATL_2020",
          "ATL_2021",
          "BKN_2008",
          "BKN_2009",
          "BKN_2010",
          "BKN_2011",
          "BKN_2012",
          "BKN_2013",
          "BKN_2014",
          "BKN_2015",
          "BKN_2016",
          "BKN_2017",
          "BKN_2018",
          "BKN_2019",
          "BKN_2020",
          "BKN_2021",
          "BOS_2008",
          "BOS_2009",
          "BOS_2010",
          "BOS_2011",
          "BOS_2012",
          "BOS_2013",
          "BOS_2014",
          "BOS_2015",
          "BOS_2016",
          "BOS_2017",
          "BOS_2018",
          "BOS_2019",
          "BOS_2020",
          "BOS_2021",
          "CHA_2008",
          "CHA_2009",
          "CHA_2010",
          "CHA_2011",
          "CHA_2012",
          "CHA_2013",
          "CHA_2014",
          "CHA_2015",
          "CHA_2016",
          "CHA_2017",
          "CHA_2018",
          "CHA_2019",
          "CHA_2020",
          "CHA_2021",
          "CHI_2008",
          "CHI_2009",
          "CHI_2010",
          "CHI_2011",
          "CHI_2012",
          "CHI_2013",
          "CHI_2014",
          "CHI_2015",
          "CHI_2016",
          "CHI_2017",
          "CHI_2018",
          "CHI_2019",
          "CHI_2020",
          "CHI_2021",
          "CLE_2008",
          "CLE_2009",
          "CLE_2010",
          "CLE_2011",
          "CLE_2012",
          "CLE_2013",
          "CLE_2014",
          "CLE_2015",
          "CLE_2016",
          "CLE_2017",
          "CLE_2018",
          "CLE_2019",
          "CLE_2020",
          "CLE_2021",
          "DAL_2008",
          "DAL_2009",
          "DAL_2010",
          "DAL_2011",
          "DAL_2012",
          "DAL_2013",
          "DAL_2014",
          "DAL_2015",
          "DAL_2016",
          "DAL_2017",
          "DAL_2018",
          "DAL_2019",
          "DAL_2020",
          "DAL_2021",
          "DEN_2008",
          "DEN_2009",
          "DEN_2010",
          "DEN_2011",
          "DEN_2012",
          "DEN_2013",
          "DEN_2014",
          "DEN_2015",
          "DEN_2016",
          "DEN_2017",
          "DEN_2018",
          "DEN_2019",
          "DEN_2020",
          "DEN_2021",
          "DET_2008",
          "DET_2009",
          "DET_2010",
          "DET_2011",
          "DET_2012",
          "DET_2013",
          "DET_2014",
          "DET_2015",
          "DET_2016",
          "DET_2017",
          "DET_2018",
          "DET_2019",
          "DET_2020",
          "DET_2021",
          "GSW_2008",
          "GSW_2009",
          "GSW_2010",
          "GSW_2011",
          "GSW_2012",
          "GSW_2013",
          "GSW_2014",
          "GSW_2015",
          "GSW_2016",
          "GSW_2017",
          "GSW_2018",
          "GSW_2019",
          "GSW_2020",
          "GSW_2021",
          "HOU_2008",
          "HOU_2009",
          "HOU_2010",
          "HOU_2011",
          "HOU_2012",
          "HOU_2013",
          "HOU_2014",
          "HOU_2015",
          "HOU_2016",
          "HOU_2017",
          "HOU_2018",
          "HOU_2019",
          "HOU_2020",
          "HOU_2021",
          "IND_2008",
          "IND_2009",
          "IND_2010",
          "IND_2011",
          "IND_2012",
          "IND_2013",
          "IND_2014",
          "IND_2015",
          "IND_2016",
          "IND_2017",
          "IND_2018",
          "IND_2019",
          "IND_2020",
          "IND_2021",
          "LAC_2008",
          "LAC_2009",
          "LAC_2010",
          "LAC_2011",
          "LAC_2012",
          "LAC_2013",
          "LAC_2014",
          "LAC_2015",
          "LAC_2016",
          "LAC_2017",
          "LAC_2018",
          "LAC_2019",
          "LAC_2020",
          "LAC_2021",
          "LAL_2008",
          "LAL_2009",
          "LAL_2010",
          "LAL_2011",
          "LAL_2012",
          "LAL_2013",
          "LAL_2014",
          "LAL_2015",
          "LAL_2016",
          "LAL_2017",
          "LAL_2018",
          "LAL_2019",
          "LAL_2020",
          "LAL_2021",
          "MEM_2008",
          "MEM_2009",
          "MEM_2010",
          "MEM_2011",
          "MEM_2012",
          "MEM_2013",
          "MEM_2014",
          "MEM_2015",
          "MEM_2016",
          "MEM_2017",
          "MEM_2018",
          "MEM_2019",
          "MEM_2020",
          "MEM_2021",
          "MIA_2008",
          "MIA_2009",
          "MIA_2010",
          "MIA_2011",
          "MIA_2012",
          "MIA_2013",
          "MIA_2014",
          "MIA_2015",
          "MIA_2016",
          "MIA_2017",
          "MIA_2018",
          "MIA_2019",
          "MIA_2020",
          "MIA_2021",
          "MIL_2008",
          "MIL_2009",
          "MIL_2010",
          "MIL_2011",
          "MIL_2012",
          "MIL_2013",
          "MIL_2014",
          "MIL_2015",
          "MIL_2016",
          "MIL_2017",
          "MIL_2018",
          "MIL_2019",
          "MIL_2020",
          "MIL_2021",
          "MIN_2008",
          "MIN_2009",
          "MIN_2010",
          "MIN_2011",
          "MIN_2012",
          "MIN_2013",
          "MIN_2014",
          "MIN_2015",
          "MIN_2016",
          "MIN_2017",
          "MIN_2018",
          "MIN_2019",
          "MIN_2020",
          "MIN_2021",
          "NOP_2008",
          "NOP_2009",
          "NOP_2010",
          "NOP_2011",
          "NOP_2012",
          "NOP_2013",
          "NOP_2014",
          "NOP_2015",
          "NOP_2016",
          "NOP_2017",
          "NOP_2018",
          "NOP_2019",
          "NOP_2020",
          "NOP_2021",
          "NYK_2008",
          "NYK_2009",
          "NYK_2010",
          "NYK_2011",
          "NYK_2012",
          "NYK_2013",
          "NYK_2014",
          "NYK_2015",
          "NYK_2016",
          "NYK_2017",
          "NYK_2018",
          "NYK_2019",
          "NYK_2020",
          "NYK_2021",
          "OKC_2008",
          "OKC_2009",
          "OKC_2010",
          "OKC_2011",
          "OKC_2012",
          "OKC_2013",
          "OKC_2014",
          "OKC_2015",
          "OKC_2016",
          "OKC_2017",
          "OKC_2018",
          "OKC_2019",
          "OKC_2020",
          "OKC_2021",
          "ORL_2008",
          "ORL_2009",
          "ORL_2010",
          "ORL_2011",
          "ORL_2012",
          "ORL_2013",
          "ORL_2014",
          "ORL_2015",
          "ORL_2016",
          "ORL_2017",
          "ORL_2018",
          "ORL_2019",
          "ORL_2020",
          "ORL_2021",
          "PHI_2008",
          "PHI_2009",
          "PHI_2010",
          "PHI_2011",
          "PHI_2012",
          "PHI_2013",
          "PHI_2014",
          "PHI_2015",
          "PHI_2016",
          "PHI_2017",
          "PHI_2018",
          "PHI_2019",
          "PHI_2020",
          "PHI_2021",
          "PHX_2008",
          "PHX_2009",
          "PHX_2010",
          "PHX_2011",
          "PHX_2012",
          "PHX_2013",
          "PHX_2014",
          "PHX_2015",
          "PHX_2016",
          "PHX_2017",
          "PHX_2018",
          "PHX_2019",
          "PHX_2020",
          "PHX_2021",
          "POR_2008",
          "POR_2009",
          "POR_2010",
          "POR_2011",
          "POR_2012",
          "POR_2013",
          "POR_2014",
          "POR_2015",
          "POR_2016",
          "POR_2017",
          "POR_2018",
          "POR_2019",
          "POR_2020",
          "POR_2021",
          "SAC_2008",
          "SAC_2009",
          "SAC_2010",
          "SAC_2011",
          "SAC_2012",
          "SAC_2013",
          "SAC_2014",
          "SAC_2015",
          "SAC_2016",
          "SAC_2017",
          "SAC_2018",
          "SAC_2019",
          "SAC_2020",
          "SAC_2021",
          "SAS_2008",
          "SAS_2009",
          "SAS_2010",
          "SAS_2011",
          "SAS_2012",
          "SAS_2013",
          "SAS_2014",
          "SAS_2015",
          "SAS_2016",
          "SAS_2017",
          "SAS_2018",
          "SAS_2019",
          "SAS_2020",
          "SAS_2021",
          "TOR_2008",
          "TOR_2009",
          "TOR_2010",
          "TOR_2011",
          "TOR_2012",
          "TOR_2013",
          "TOR_2014",
          "TOR_2015",
          "TOR_2016",
          "TOR_2017",
          "TOR_2018",
          "TOR_2019",
          "TOR_2020",
          "TOR_2021",
          "UTA_2008",
          "UTA_2009",
          "UTA_2010",
          "UTA_2011",
          "UTA_2012",
          "UTA_2013",
          "UTA_2014",
          "UTA_2015",
          "UTA_2016",
          "UTA_2017",
          "UTA_2018",
          "UTA_2019",
          "UTA_2020",
          "UTA_2021",
          "WAS_2008",
          "WAS_2009",
          "WAS_2010",
          "WAS_2011",
          "WAS_2012",
          "WAS_2013",
          "WAS_2014",
          "WAS_2015",
          "WAS_2016",
          "WAS_2017",
          "WAS_2018",
          "WAS_2019",
          "WAS_2020",
          "WAS_2021"
         ],
         "mode": "markers",
         "type": "scatter",
         "x": [
          96.44056429232192,
          100.21022201665124,
          93.88297872340425,
          95.38888888888889,
          97.36363636363637,
          100.32449494949495,
          101.8061224489796,
          102.54347826086956,
          103.31818181818181,
          103.35365853658536,
          112.98780487804878,
          111.71836007130125,
          111.06648936170212,
          110.90483584738243,
          98.09756097560975,
          92.3780487804878,
          94.17073170731707,
          93.0909090909091,
          97.07272727272726,
          98.17753623188406,
          97.9090909090909,
          98.64634146341463,
          105.76829268292683,
          106.59756097560975,
          112.21273784355179,
          111.46052631578948,
          117.70136131593874,
          111.41304347826087,
          101.03061224489795,
          98.00943396226415,
          96.34661835748793,
          91.30232558139535,
          95.56263213530656,
          96.2439024390244,
          101.05813953488372,
          104.9090909090909,
          107.47158863545418,
          103.4552590266876,
          111.38961352657006,
          112.860101010101,
          112.66666666666667,
          109.57694805194805,
          93.6219512195122,
          94.82558139534883,
          93.29268292682926,
          86.95454545454545,
          93.42682926829269,
          96.62790697674419,
          94.15853658536585,
          102.39469696969697,
          104.89024390243901,
          108.21951219512195,
          110.7439024390244,
          102.93643263757116,
          109.5457957957958,
          113.31395348837209,
          102.67601010101009,
          97.45718816067654,
          97.59208333333333,
          95.34722222222223,
          93.0221920289855,
          93.4423890063425,
          100.18085106382978,
          101.64634146341464,
          102.43181818181819,
          102.92682926829268,
          104.9390243902439,
          106.88140417457305,
          110.68055555555556,
          106.89084181313598,
          99.88541666666667,
          101.87604070305272,
          95.45121951219511,
          93.03030303030303,
          96.5,
          98.21951219512195,
          102.32352941176471,
          104.44720965309202,
          111.44017607042818,
          108.8076923076923,
          104.47560975609755,
          106.69157088122606,
          103.77777777777777,
          105.2005928853755,
          101.81678486997636,
          101.375,
          99.82032428355959,
          95.64285714285714,
          101.13414634146342,
          104.57979797979797,
          105.51612050739958,
          101.83350951374207,
          97.91463414634146,
          102.3170731707317,
          108.8658536585366,
          117.00335365853658,
          111.84807692307692,
          106.33442265795208,
          104.85125,
          106.64772727272728,
          106.9225687103594,
          103.40315315315314,
          105.93181818181819,
          104.3780487804878,
          101.46341463414635,
          101.89024390243902,
          111.71951219512195,
          110,
          110.31449468085106,
          110.44589371980676,
          115.02439024390245,
          109.83857539315449,
          93.47674418604652,
          94.01219512195121,
          96.96341463414635,
          90.86363636363636,
          94.85365853658537,
          101.04878048780488,
          98.5,
          101.63953488372093,
          101.32926829268293,
          103.76829268292684,
          106.62790697674419,
          107.24242424242425,
          106.61111111111111,
          103.8411733615222,
          108.59756097560975,
          108.8048780487805,
          103.3780487804878,
          97.77272727272728,
          101.36170212765957,
          104.43055555555556,
          108.57164404223228,
          113.22174688057041,
          116.4495918367347,
          112.83823529411765,
          116.9326923076923,
          106.30787476280835,
          113.5,
          108.62134502923976,
          97.47828014184398,
          102.3780487804878,
          105.91463414634146,
          98.0909090909091,
          105.54545454545455,
          107.9659090909091,
          104.65530612244898,
          105.66781183932346,
          114.42784458834413,
          111.01593137254902,
          113.24375578168363,
          116.35714285714286,
          108.79166666666667,
          107.26136363636364,
          105.08536585365854,
          100.76829268292684,
          99.276955602537,
          96.71626180836708,
          94.18,
          95.75607843137254,
          97.32926829268293,
          101.50429292929293,
          105.26744186046511,
          105.1861111111111,
          107.25581395348837,
          109.00539811066128,
          115.6891891891892,
          107.04903943377148,
          95.10975609756098,
          95.71951219512195,
          98.64634146341464,
          96.61808367071525,
          100.64772727272728,
          108.00908687943263,
          106.875,
          104.07954545454545,
          107.80378787878789,
          108.98780487804878,
          115.10227272727272,
          115.97591362126246,
          113.487922705314,
          106.800395256917,
          105.92017416545718,
          101.54227140783745,
          100.57608695652173,
          96.7948717948718,
          101.4186046511628,
          102.95121951219512,
          98.45121951219512,
          97.34146341463415,
          104.57317073170731,
          108.07317073170731,
          111.76829268292683,
          113.14975845410628,
          108.52051282051282,
          107.35743174924166,
          93.8780487804878,
          102.48780487804878,
          99.78945035460993,
          94.5975975975976,
          93.60119047619048,
          96.21237373737374,
          97.88066604995375,
          98.25581395348837,
          100.19318181818181,
          99.32926829268293,
          103.53658536585365,
          112.75675675675676,
          113.23589743589744,
          112.58549019607844,
          97.53560606060606,
          96.0100422832981,
          100.14950980392157,
          98.11046511627907,
          101.53649237472766,
          101.22549019607843,
          94.6829268292683,
          99.58333333333334,
          103.17073170731707,
          103.42785412262157,
          105.70731707317074,
          111.64583333333334,
          107.53947368421052,
          106.73626373626374,
          99.29268292682927,
          97.09570707070708,
          91.8780487804878,
          99.01515151515152,
          98.24418604651163,
          95.47560975609755,
          97.20454545454545,
          99.04878048780489,
          102.9090909090909,
          106.1189393939394,
          117.28443877551021,
          117.7787456445993,
          116.01041666666666,
          109.39295718287315,
          97.79268292682927,
          98.1829268292683,
          101.07317073170732,
          97.93939393939394,
          95.7439024390244,
          106.92682926829269,
          97.7560975609756,
          102.41463414634146,
          105.57317073170731,
          109.08403805496829,
          112.47560975609755,
          112.96875,
          112.125,
          112.22670807453416,
          95.15327695560254,
          100.2439024390244,
          94.54545454545455,
          89.63636363636363,
          94.07317073170732,
          99.71951219512195,
          99.4186046511628,
          102.71951219512195,
          104.34146341463415,
          111.5707729468599,
          115.4390243902439,
          115.84722222222223,
          114.59722222222223,
          108.17650890143291,
          105.20731707317074,
          102.10975609756098,
          105.77906976744185,
          96.81428571428572,
          98.5,
          98.58536585365854,
          91.89024390243902,
          98.35365853658536,
          104.34146341463415,
          104.46341463414635,
          104.57317073170732,
          105.80303030303031,
          106.34952766531714,
          104.42770475227502,
          96.97560975609755,
          100.9659090909091,
          104.40591836734694,
          102.63953488372093,
          104.8337187789084,
          105.44549019607842,
          103.95121951219512,
          109.53,
          106.49603594080338,
          107.39772727272727,
          113.71326638477801,
          109.80448717948718,
          105,
          100.92299741602068,
          100.12264150943396,
          101.85416666666666,
          98.48863636363637,
          93.47261904761905,
          94.1219512195122,
          96.51219512195122,
          95.6951219512195,
          102.0609756097561,
          101.07317073170731,
          103.40243902439025,
          106.45903805496829,
          107.1990771259064,
          104,
          102.48346253229974,
          96.79545454545453,
          97.73170731707317,
          98.31844608879493,
          92.32147435897436,
          93.17073170731707,
          99.45121951219511,
          91.97560975609755,
          97.41463414634146,
          102.4390243902439,
          109.69565217391305,
          114.34042553191489,
          110.30945945945946,
          113.93051616562678,
          107.93,
          109.4390243902439,
          109.72448979591837,
          105.01219512195122,
          98.36363636363637,
          95.1829268292683,
          105.23170731707316,
          102.40243902439025,
          100.8658536585366,
          107.6951219512195,
          103.92682926829269,
          107.5,
          113.55241327300152,
          113.80851063829788,
          111.9113725490196,
          98.5909090909091,
          97.76136363636364,
          95.73863636363636,
          97.19696969696969,
          97.5,
          106.46577243293247,
          102.29651162790697,
          105.16119333950047,
          107.63953488372093,
          105.61627906976744,
          113.81526360544217,
          114.65259537210757,
          116.37179487179488,
          104.75839793281654,
          100.58536585365854,
          100,
          99.40243902439025,
          98.75757575757575,
          100.23170731707317,
          100.5,
          101.34146341463415,
          106.58536585365854,
          102.8048780487805,
          98.82926829268293,
          114.1829268292683,
          110.1046332046332,
          113.47222222222223,
          107.33226125680356,
          96.6522198731501,
          100.79347826086956,
          103.04545454545453,
          103.3625,
          102.49509803921569,
          105.53649237472766,
          103.24368686868686,
          103.36956521739131,
          105.61224489795919,
          102.42309725158563,
          111.02070707070706,
          114.08386327503975,
          110.86861861861861,
          110.05484189723319,
          99.03658536585365,
          104.07317073170731,
          99.07317073170732,
          90.69696969696969,
          97.20731707317074,
          100.84949494949495,
          103.62790697674419,
          100.83076923076923,
          105.75,
          111.18478260869566,
          112.64494301994301,
          112.29210220673636,
          111.26388888888889,
          106.63768115942028,
          103.21987315010571,
          104.54347826086956,
          99.42682926829269,
          98.88571428571429,
          98.02439024390245,
          95.01219512195121,
          95.1341463414634,
          97.6829268292683,
          100.3700277520814,
          103.93663274745606,
          110.93446088794926,
          111.50577663671373,
          116.46689895470382,
          109.61865942028986,
          96.0609756097561,
          96.2439024390244,
          97.28048780487805,
          93.63636363636364,
          93.21951219512195,
          99.43385753931545,
          98.81521739130434,
          104.07317073170732,
          109.04432624113474,
          106.64772727272728,
          114.02439024390245,
          114.41666666666666,
          116.36570512820512,
          103.51136363636363
         ],
         "y": [
          95.94333950046254,
          96.95235892691952,
          95.15957446808511,
          92.625,
          97.3409090909091,
          100.81641414141414,
          97.29591836734693,
          99.43478260869566,
          104.19318181818181,
          108.8048780487805,
          119.10975609756099,
          119.7673796791444,
          109.40449709864603,
          110.58673469387756,
          100.53658536585365,
          101.5,
          100.41463414634146,
          99.07575757575756,
          95.28737373737374,
          99.13043478260869,
          100.9659090909091,
          106,
          112.5,
          110.34146341463415,
          112.88372093023256,
          113.07894736842104,
          112.18009075439592,
          110.92391304347827,
          94.66283108988276,
          94.5566037735849,
          91.34951690821256,
          89.13953488372093,
          96.08668076109936,
          100.70731707317074,
          101.33720930232559,
          102.375,
          105.84773909563825,
          100.4980376766091,
          107.50748792270531,
          106.78888888888889,
          111.8076923076923,
          102.92743506493507,
          94.89024390243902,
          93.86046511627907,
          97.29268292682927,
          100.86363636363637,
          102.65853658536585,
          97.29069767441861,
          97.32926829268294,
          100.53661616161617,
          104.6951219512195,
          107.96341463414635,
          111.84146341463415,
          109.62571157495256,
          111.79054054054055,
          113.50429726996967,
          103.22626262626262,
          99.50105708245243,
          90.83458333333334,
          87.98611111111111,
          93.55797101449275,
          91.99048625792813,
          97.12765957446808,
          103.1219512195122,
          102.5,
          109.96341463414635,
          113.35365853658536,
          110.03462998102466,
          111.56944444444444,
          107.99098057354303,
          91.02083333333334,
          95.98866790009251,
          104.46341463414635,
          100.22727272727272,
          101.1829268292683,
          101.51219512195121,
          97.94117647058823,
          97.87858220211162,
          107.31892757102841,
          108.4326923076923,
          114.08536585365854,
          114.75191570881226,
          112.27777777777777,
          103.1501976284585,
          100.04917257683215,
          98.875,
          95.29732277526395,
          95.11428571428573,
          101.73170731707317,
          102.50757575757575,
          103.00211416490487,
          103.13662790697674,
          100.84146341463415,
          105.35365853658537,
          110.14634146341463,
          113.14146341463415,
          110.27083333333334,
          103.91666666666667,
          100.65708333333333,
          102.92045454545455,
          102.64904862579282,
          100.73686186186185,
          101.47727272727272,
          106.52439024390245,
          105.01219512195122,
          104.98780487804878,
          111.20731707317073,
          108.52439024390245,
          106.78080673758865,
          109.11739130434782,
          111.3658536585366,
          108.54209065679926,
          94.66279069767441,
          99.1219512195122,
          100.5609756097561,
          95.65151515151516,
          98.84146341463415,
          104.70731707317074,
          99.5,
          101.45348837209302,
          102.45121951219511,
          103.91463414634146,
          107.96511627906978,
          110.80303030303031,
          111.08333333333333,
          111.08958773784354,
          112.34146341463415,
          112.40243902439025,
          105.70731707317073,
          101.18181818181819,
          100.56382978723406,
          100.31489898989899,
          98.97454751131221,
          104.08146167557932,
          104.53244897959183,
          106.06711915535445,
          111.125,
          115.01565464895636,
          112.58108108108108,
          103.09649122807016,
          94.17220744680851,
          102.7439024390244,
          103.73170731707317,
          97.86363636363637,
          102.70454545454547,
          103.69318181818181,
          102.2595918367347,
          106.54281183932346,
          109.23196114708603,
          103.72732843137254,
          108.69518963922295,
          113.71428571428572,
          116.69444444444444,
          115.13636363636364,
          106.1951219512195,
          103.78048780487805,
          100.65961945031712,
          93.73009446693658,
          90.89,
          92.41941176470588,
          97.04878048780488,
          99.7909090909091,
          105.66279069767441,
          103.4469696969697,
          104.43023255813954,
          107.65620782726046,
          115.72972972972974,
          109.66506572295248,
          103.8780487804878,
          102.07317073170731,
          101.78048780487805,
          95.0506072874494,
          95.01136363636363,
          101.75443262411346,
          101.05208333333334,
          100.02272727272728,
          103.98383838383839,
          108.95121951219512,
          114.98863636363637,
          109.890642303433,
          107.76521739130436,
          107.2544466403162,
          98.38515965166908,
          97.05878084179972,
          95.27173913043478,
          96.23076923076923,
          101.18604651162791,
          109.2439024390244,
          105.29268292682927,
          106.90243902439025,
          111.45121951219512,
          109.6219512195122,
          113.48780487804879,
          107.19830917874395,
          106.4445512820513,
          111.26668351870576,
          99.34146341463415,
          104,
          97.80939716312056,
          92.76388888888889,
          89.9766156462585,
          95.17878787878789,
          95.20467160037003,
          101.41860465116278,
          100.30681818181819,
          105.53658536585365,
          106.1219512195122,
          113.86486486486487,
          112.73429487179487,
          107.64294117647059,
          97.18055555555556,
          94.31183932346724,
          93.68589743589743,
          92.00657229524774,
          94.06917211328977,
          97.05882352941177,
          97.28048780487805,
          97.71875,
          102.10975609756098,
          103.58245243128964,
          105.9390243902439,
          108.8125,
          108.59210526315789,
          102.54807692307692,
          100.3780487804878,
          95.8030303030303,
          92.71951219512195,
          98.74242424242425,
          100.36046511627907,
          103.65853658536585,
          97.64772727272728,
          103.23170731707316,
          103.125,
          106.42171717171718,
          108.46386054421768,
          108.74012775842044,
          110.875,
          106.82773109243698,
          102.70731707317074,
          107.78048780487805,
          107.70731707317073,
          100.13636363636364,
          98.10975609756098,
          104.2560975609756,
          106.54878048780488,
          105.95121951219511,
          106.6829268292683,
          107.44371035940804,
          113.97560975609755,
          117.546875,
          117.68055555555556,
          110.13708961845609,
          95.04994714587738,
          102.70731707317073,
          94.20454545454547,
          93.39393939393939,
          97.9390243902439,
          102.42682926829268,
          99.03488372093022,
          106.51219512195121,
          106.4390243902439,
          110.46497584541063,
          116.76829268292683,
          117.13888888888889,
          114.83333333333334,
          108.19018671298306,
          107.8170731707317,
          105.92682926829269,
          105.43023255813954,
          94.7670634920635,
          94.46808510638297,
          99.3780487804878,
          101.20731707317074,
          101.08536585365854,
          108.01219512195122,
          108.02439024390245,
          113.78048780487805,
          112.25757575757575,
          104.67375168690958,
          104.17871587462082,
          103.07317073170732,
          97.82954545454545,
          100.96836734693878,
          97.01162790697674,
          96.59135060129509,
          100.52568627450981,
          101.76829268292683,
          102.61,
          106.2161733615222,
          104.51136363636363,
          110.71538054968288,
          108.60416666666666,
          115.63888888888889,
          109.16485788113695,
          94.52830188679246,
          94.19791666666666,
          93.27272727272728,
          93.45992063492064,
          101.10975609756098,
          101.95121951219512,
          101.41463414634146,
          103.6829268292683,
          107.64634146341464,
          108.21951219512195,
          106.59645877378435,
          108.7165458141068,
          113.30555555555556,
          110.08372093023256,
          97.25,
          101.6341463414634,
          97.28646934460888,
          88.9423076923077,
          96.51219512195121,
          109.90243902439025,
          100.95121951219512,
          107.64634146341463,
          108.1341463414634,
          105.26086956521739,
          111.61702127659575,
          108.41486486486485,
          108.14152013613159,
          106.25999999999999,
          107.51219512195122,
          104.86734693877551,
          105.90243902439025,
          98.6060606060606,
          101.64634146341464,
          102.59756097560975,
          103.3048780487805,
          107.52439024390245,
          113.32926829268293,
          113.29268292682927,
          116.84146341463415,
          113.45475113122171,
          108.30851063829788,
          106.03137254901961,
          93.97727272727272,
          95.38636363636364,
          94.67045454545455,
          97.81818181818181,
          100.67073170731707,
          103.66234967622572,
          98.64904862579282,
          104.67460684551341,
          108.97674418604652,
          103.55813953488371,
          110.45599489795919,
          116.25672295184489,
          114.82051282051282,
          113.47467700258397,
          109.34146341463415,
          104.36585365853658,
          104.7439024390244,
          104.43939393939394,
          105.10975609756098,
          103.40243902439025,
          105.04878048780488,
          109.0609756097561,
          106.6829268292683,
          105.8170731707317,
          115.3048780487805,
          112.14131274131273,
          117.41666666666666,
          111.5541810984661,
          93.473044397463,
          96.63043478260869,
          97.94318181818181,
          96.4125,
          95.93721719457014,
          97.5326797385621,
          97.46363636363637,
          92.90217391304347,
          99.42857142857143,
          100.15010570824523,
          109.55757575757576,
          114.83545310015899,
          112.65653153153153,
          110.06521739130434,
          101.85365853658536,
          105.85365853658536,
          105.35365853658537,
          94,
          98.6829268292683,
          98,
          101.34883720930233,
          98.10846153846154,
          102.61956521739131,
          104.72826086956522,
          106.74180911680912,
          106.345818815331,
          111.73611111111111,
          104.78940217391305,
          101.17679704016913,
          100.02173913043478,
          101.2560975609756,
          99.21428571428572,
          98.10975609756098,
          102.1829268292683,
          94.91463414634146,
          95.89024390243902,
          97.43640148011102,
          100.36308973172989,
          106.47093023255815,
          108.88543003851092,
          108.60046457607433,
          104.35235507246378,
          103.52439024390245,
          101.02439024390245,
          104.6829268292683,
          98.43939393939394,
          95.7560975609756,
          98.209065679926,
          97.75,
          104.57317073170731,
          107.44326241134752,
          106.23863636363637,
          116.92682926829268,
          119.08333333333334,
          118.77724358974359,
          106.1590909090909
         ]
        }
       ],
       "layout": {
        "hovermode": "closest",
        "template": {
         "data": {
          "bar": [
           {
            "error_x": {
             "color": "#2a3f5f"
            },
            "error_y": {
             "color": "#2a3f5f"
            },
            "marker": {
             "line": {
              "color": "#E5ECF6",
              "width": 0.5
             },
             "pattern": {
              "fillmode": "overlay",
              "size": 10,
              "solidity": 0.2
             }
            },
            "type": "bar"
           }
          ],
          "barpolar": [
           {
            "marker": {
             "line": {
              "color": "#E5ECF6",
              "width": 0.5
             },
             "pattern": {
              "fillmode": "overlay",
              "size": 10,
              "solidity": 0.2
             }
            },
            "type": "barpolar"
           }
          ],
          "carpet": [
           {
            "aaxis": {
             "endlinecolor": "#2a3f5f",
             "gridcolor": "white",
             "linecolor": "white",
             "minorgridcolor": "white",
             "startlinecolor": "#2a3f5f"
            },
            "baxis": {
             "endlinecolor": "#2a3f5f",
             "gridcolor": "white",
             "linecolor": "white",
             "minorgridcolor": "white",
             "startlinecolor": "#2a3f5f"
            },
            "type": "carpet"
           }
          ],
          "choropleth": [
           {
            "colorbar": {
             "outlinewidth": 0,
             "ticks": ""
            },
            "type": "choropleth"
           }
          ],
          "contour": [
           {
            "colorbar": {
             "outlinewidth": 0,
             "ticks": ""
            },
            "colorscale": [
             [
              0,
              "#0d0887"
             ],
             [
              0.1111111111111111,
              "#46039f"
             ],
             [
              0.2222222222222222,
              "#7201a8"
             ],
             [
              0.3333333333333333,
              "#9c179e"
             ],
             [
              0.4444444444444444,
              "#bd3786"
             ],
             [
              0.5555555555555556,
              "#d8576b"
             ],
             [
              0.6666666666666666,
              "#ed7953"
             ],
             [
              0.7777777777777778,
              "#fb9f3a"
             ],
             [
              0.8888888888888888,
              "#fdca26"
             ],
             [
              1,
              "#f0f921"
             ]
            ],
            "type": "contour"
           }
          ],
          "contourcarpet": [
           {
            "colorbar": {
             "outlinewidth": 0,
             "ticks": ""
            },
            "type": "contourcarpet"
           }
          ],
          "heatmap": [
           {
            "colorbar": {
             "outlinewidth": 0,
             "ticks": ""
            },
            "colorscale": [
             [
              0,
              "#0d0887"
             ],
             [
              0.1111111111111111,
              "#46039f"
             ],
             [
              0.2222222222222222,
              "#7201a8"
             ],
             [
              0.3333333333333333,
              "#9c179e"
             ],
             [
              0.4444444444444444,
              "#bd3786"
             ],
             [
              0.5555555555555556,
              "#d8576b"
             ],
             [
              0.6666666666666666,
              "#ed7953"
             ],
             [
              0.7777777777777778,
              "#fb9f3a"
             ],
             [
              0.8888888888888888,
              "#fdca26"
             ],
             [
              1,
              "#f0f921"
             ]
            ],
            "type": "heatmap"
           }
          ],
          "heatmapgl": [
           {
            "colorbar": {
             "outlinewidth": 0,
             "ticks": ""
            },
            "colorscale": [
             [
              0,
              "#0d0887"
             ],
             [
              0.1111111111111111,
              "#46039f"
             ],
             [
              0.2222222222222222,
              "#7201a8"
             ],
             [
              0.3333333333333333,
              "#9c179e"
             ],
             [
              0.4444444444444444,
              "#bd3786"
             ],
             [
              0.5555555555555556,
              "#d8576b"
             ],
             [
              0.6666666666666666,
              "#ed7953"
             ],
             [
              0.7777777777777778,
              "#fb9f3a"
             ],
             [
              0.8888888888888888,
              "#fdca26"
             ],
             [
              1,
              "#f0f921"
             ]
            ],
            "type": "heatmapgl"
           }
          ],
          "histogram": [
           {
            "marker": {
             "pattern": {
              "fillmode": "overlay",
              "size": 10,
              "solidity": 0.2
             }
            },
            "type": "histogram"
           }
          ],
          "histogram2d": [
           {
            "colorbar": {
             "outlinewidth": 0,
             "ticks": ""
            },
            "colorscale": [
             [
              0,
              "#0d0887"
             ],
             [
              0.1111111111111111,
              "#46039f"
             ],
             [
              0.2222222222222222,
              "#7201a8"
             ],
             [
              0.3333333333333333,
              "#9c179e"
             ],
             [
              0.4444444444444444,
              "#bd3786"
             ],
             [
              0.5555555555555556,
              "#d8576b"
             ],
             [
              0.6666666666666666,
              "#ed7953"
             ],
             [
              0.7777777777777778,
              "#fb9f3a"
             ],
             [
              0.8888888888888888,
              "#fdca26"
             ],
             [
              1,
              "#f0f921"
             ]
            ],
            "type": "histogram2d"
           }
          ],
          "histogram2dcontour": [
           {
            "colorbar": {
             "outlinewidth": 0,
             "ticks": ""
            },
            "colorscale": [
             [
              0,
              "#0d0887"
             ],
             [
              0.1111111111111111,
              "#46039f"
             ],
             [
              0.2222222222222222,
              "#7201a8"
             ],
             [
              0.3333333333333333,
              "#9c179e"
             ],
             [
              0.4444444444444444,
              "#bd3786"
             ],
             [
              0.5555555555555556,
              "#d8576b"
             ],
             [
              0.6666666666666666,
              "#ed7953"
             ],
             [
              0.7777777777777778,
              "#fb9f3a"
             ],
             [
              0.8888888888888888,
              "#fdca26"
             ],
             [
              1,
              "#f0f921"
             ]
            ],
            "type": "histogram2dcontour"
           }
          ],
          "mesh3d": [
           {
            "colorbar": {
             "outlinewidth": 0,
             "ticks": ""
            },
            "type": "mesh3d"
           }
          ],
          "parcoords": [
           {
            "line": {
             "colorbar": {
              "outlinewidth": 0,
              "ticks": ""
             }
            },
            "type": "parcoords"
           }
          ],
          "pie": [
           {
            "automargin": true,
            "type": "pie"
           }
          ],
          "scatter": [
           {
            "marker": {
             "colorbar": {
              "outlinewidth": 0,
              "ticks": ""
             }
            },
            "type": "scatter"
           }
          ],
          "scatter3d": [
           {
            "line": {
             "colorbar": {
              "outlinewidth": 0,
              "ticks": ""
             }
            },
            "marker": {
             "colorbar": {
              "outlinewidth": 0,
              "ticks": ""
             }
            },
            "type": "scatter3d"
           }
          ],
          "scattercarpet": [
           {
            "marker": {
             "colorbar": {
              "outlinewidth": 0,
              "ticks": ""
             }
            },
            "type": "scattercarpet"
           }
          ],
          "scattergeo": [
           {
            "marker": {
             "colorbar": {
              "outlinewidth": 0,
              "ticks": ""
             }
            },
            "type": "scattergeo"
           }
          ],
          "scattergl": [
           {
            "marker": {
             "colorbar": {
              "outlinewidth": 0,
              "ticks": ""
             }
            },
            "type": "scattergl"
           }
          ],
          "scattermapbox": [
           {
            "marker": {
             "colorbar": {
              "outlinewidth": 0,
              "ticks": ""
             }
            },
            "type": "scattermapbox"
           }
          ],
          "scatterpolar": [
           {
            "marker": {
             "colorbar": {
              "outlinewidth": 0,
              "ticks": ""
             }
            },
            "type": "scatterpolar"
           }
          ],
          "scatterpolargl": [
           {
            "marker": {
             "colorbar": {
              "outlinewidth": 0,
              "ticks": ""
             }
            },
            "type": "scatterpolargl"
           }
          ],
          "scatterternary": [
           {
            "marker": {
             "colorbar": {
              "outlinewidth": 0,
              "ticks": ""
             }
            },
            "type": "scatterternary"
           }
          ],
          "surface": [
           {
            "colorbar": {
             "outlinewidth": 0,
             "ticks": ""
            },
            "colorscale": [
             [
              0,
              "#0d0887"
             ],
             [
              0.1111111111111111,
              "#46039f"
             ],
             [
              0.2222222222222222,
              "#7201a8"
             ],
             [
              0.3333333333333333,
              "#9c179e"
             ],
             [
              0.4444444444444444,
              "#bd3786"
             ],
             [
              0.5555555555555556,
              "#d8576b"
             ],
             [
              0.6666666666666666,
              "#ed7953"
             ],
             [
              0.7777777777777778,
              "#fb9f3a"
             ],
             [
              0.8888888888888888,
              "#fdca26"
             ],
             [
              1,
              "#f0f921"
             ]
            ],
            "type": "surface"
           }
          ],
          "table": [
           {
            "cells": {
             "fill": {
              "color": "#EBF0F8"
             },
             "line": {
              "color": "white"
             }
            },
            "header": {
             "fill": {
              "color": "#C8D4E3"
             },
             "line": {
              "color": "white"
             }
            },
            "type": "table"
           }
          ]
         },
         "layout": {
          "annotationdefaults": {
           "arrowcolor": "#2a3f5f",
           "arrowhead": 0,
           "arrowwidth": 1
          },
          "autotypenumbers": "strict",
          "coloraxis": {
           "colorbar": {
            "outlinewidth": 0,
            "ticks": ""
           }
          },
          "colorscale": {
           "diverging": [
            [
             0,
             "#8e0152"
            ],
            [
             0.1,
             "#c51b7d"
            ],
            [
             0.2,
             "#de77ae"
            ],
            [
             0.3,
             "#f1b6da"
            ],
            [
             0.4,
             "#fde0ef"
            ],
            [
             0.5,
             "#f7f7f7"
            ],
            [
             0.6,
             "#e6f5d0"
            ],
            [
             0.7,
             "#b8e186"
            ],
            [
             0.8,
             "#7fbc41"
            ],
            [
             0.9,
             "#4d9221"
            ],
            [
             1,
             "#276419"
            ]
           ],
           "sequential": [
            [
             0,
             "#0d0887"
            ],
            [
             0.1111111111111111,
             "#46039f"
            ],
            [
             0.2222222222222222,
             "#7201a8"
            ],
            [
             0.3333333333333333,
             "#9c179e"
            ],
            [
             0.4444444444444444,
             "#bd3786"
            ],
            [
             0.5555555555555556,
             "#d8576b"
            ],
            [
             0.6666666666666666,
             "#ed7953"
            ],
            [
             0.7777777777777778,
             "#fb9f3a"
            ],
            [
             0.8888888888888888,
             "#fdca26"
            ],
            [
             1,
             "#f0f921"
            ]
           ],
           "sequentialminus": [
            [
             0,
             "#0d0887"
            ],
            [
             0.1111111111111111,
             "#46039f"
            ],
            [
             0.2222222222222222,
             "#7201a8"
            ],
            [
             0.3333333333333333,
             "#9c179e"
            ],
            [
             0.4444444444444444,
             "#bd3786"
            ],
            [
             0.5555555555555556,
             "#d8576b"
            ],
            [
             0.6666666666666666,
             "#ed7953"
            ],
            [
             0.7777777777777778,
             "#fb9f3a"
            ],
            [
             0.8888888888888888,
             "#fdca26"
            ],
            [
             1,
             "#f0f921"
            ]
           ]
          },
          "colorway": [
           "#636efa",
           "#EF553B",
           "#00cc96",
           "#ab63fa",
           "#FFA15A",
           "#19d3f3",
           "#FF6692",
           "#B6E880",
           "#FF97FF",
           "#FECB52"
          ],
          "font": {
           "color": "#2a3f5f"
          },
          "geo": {
           "bgcolor": "white",
           "lakecolor": "white",
           "landcolor": "#E5ECF6",
           "showlakes": true,
           "showland": true,
           "subunitcolor": "white"
          },
          "hoverlabel": {
           "align": "left"
          },
          "hovermode": "closest",
          "mapbox": {
           "style": "light"
          },
          "paper_bgcolor": "white",
          "plot_bgcolor": "#E5ECF6",
          "polar": {
           "angularaxis": {
            "gridcolor": "white",
            "linecolor": "white",
            "ticks": ""
           },
           "bgcolor": "#E5ECF6",
           "radialaxis": {
            "gridcolor": "white",
            "linecolor": "white",
            "ticks": ""
           }
          },
          "scene": {
           "xaxis": {
            "backgroundcolor": "#E5ECF6",
            "gridcolor": "white",
            "gridwidth": 2,
            "linecolor": "white",
            "showbackground": true,
            "ticks": "",
            "zerolinecolor": "white"
           },
           "yaxis": {
            "backgroundcolor": "#E5ECF6",
            "gridcolor": "white",
            "gridwidth": 2,
            "linecolor": "white",
            "showbackground": true,
            "ticks": "",
            "zerolinecolor": "white"
           },
           "zaxis": {
            "backgroundcolor": "#E5ECF6",
            "gridcolor": "white",
            "gridwidth": 2,
            "linecolor": "white",
            "showbackground": true,
            "ticks": "",
            "zerolinecolor": "white"
           }
          },
          "shapedefaults": {
           "line": {
            "color": "#2a3f5f"
           }
          },
          "ternary": {
           "aaxis": {
            "gridcolor": "white",
            "linecolor": "white",
            "ticks": ""
           },
           "baxis": {
            "gridcolor": "white",
            "linecolor": "white",
            "ticks": ""
           },
           "bgcolor": "#E5ECF6",
           "caxis": {
            "gridcolor": "white",
            "linecolor": "white",
            "ticks": ""
           }
          },
          "title": {
           "x": 0.05
          },
          "xaxis": {
           "automargin": true,
           "gridcolor": "white",
           "linecolor": "white",
           "ticks": "",
           "title": {
            "standoff": 15
           },
           "zerolinecolor": "white",
           "zerolinewidth": 2
          },
          "yaxis": {
           "automargin": true,
           "gridcolor": "white",
           "linecolor": "white",
           "ticks": "",
           "title": {
            "standoff": 15
           },
           "zerolinecolor": "white",
           "zerolinewidth": 2
          }
         }
        },
        "title": {
         "text": "Score vs Opponent Score"
        },
        "xaxis": {
         "title": {
          "text": "Average Score"
         }
        },
        "yaxis": {
         "title": {
          "text": "Average Opoponent Score"
         }
        }
       }
      }
     },
     "metadata": {},
     "output_type": "display_data"
    }
   ],
   "source": [
    "# Team's average score and opponents score per season\n",
    "\n",
    "data = [go.Scatter(\n",
    "    x = df_scores['avg score'],\n",
    "    y = df_scores['avg opp score'],\n",
    "    mode = 'markers',\n",
    "    hovertext = df_scores['team_season']\n",
    ")]\n",
    "\n",
    "# Create the layout\n",
    "layout = go.Layout(\n",
    "    title = 'Score vs Opponent Score',\n",
    "    xaxis = dict(title = 'Average Score'),\n",
    "    yaxis = dict(title = 'Average Opoponent Score'),\n",
    "    hovermode = 'closest'\n",
    ")\n",
    "\n",
    "# Create the figure\n",
    "fig = go.Figure(data=data, layout=layout)\n",
    "fig.show()"
   ]
  },
  {
   "cell_type": "code",
   "execution_count": 17,
   "metadata": {},
   "outputs": [
    {
     "data": {
      "application/vnd.plotly.v1+json": {
       "config": {
        "plotlyServerURL": "https://plot.ly"
       },
       "data": [
        {
         "hovertext": [
          "ATL_2008",
          "ATL_2009",
          "ATL_2010",
          "ATL_2011",
          "ATL_2012",
          "ATL_2013",
          "ATL_2014",
          "ATL_2015",
          "ATL_2016",
          "ATL_2017",
          "ATL_2018",
          "ATL_2019",
          "ATL_2020",
          "ATL_2021",
          "BKN_2008",
          "BKN_2009",
          "BKN_2010",
          "BKN_2011",
          "BKN_2012",
          "BKN_2013",
          "BKN_2014",
          "BKN_2015",
          "BKN_2016",
          "BKN_2017",
          "BKN_2018",
          "BKN_2019",
          "BKN_2020",
          "BKN_2021",
          "BOS_2008",
          "BOS_2009",
          "BOS_2010",
          "BOS_2011",
          "BOS_2012",
          "BOS_2013",
          "BOS_2014",
          "BOS_2015",
          "BOS_2016",
          "BOS_2017",
          "BOS_2018",
          "BOS_2019",
          "BOS_2020",
          "BOS_2021",
          "CHA_2008",
          "CHA_2009",
          "CHA_2010",
          "CHA_2011",
          "CHA_2012",
          "CHA_2013",
          "CHA_2014",
          "CHA_2015",
          "CHA_2016",
          "CHA_2017",
          "CHA_2018",
          "CHA_2019",
          "CHA_2020",
          "CHA_2021",
          "CHI_2008",
          "CHI_2009",
          "CHI_2010",
          "CHI_2011",
          "CHI_2012",
          "CHI_2013",
          "CHI_2014",
          "CHI_2015",
          "CHI_2016",
          "CHI_2017",
          "CHI_2018",
          "CHI_2019",
          "CHI_2020",
          "CHI_2021",
          "CLE_2008",
          "CLE_2009",
          "CLE_2010",
          "CLE_2011",
          "CLE_2012",
          "CLE_2013",
          "CLE_2014",
          "CLE_2015",
          "CLE_2016",
          "CLE_2017",
          "CLE_2018",
          "CLE_2019",
          "CLE_2020",
          "CLE_2021",
          "DAL_2008",
          "DAL_2009",
          "DAL_2010",
          "DAL_2011",
          "DAL_2012",
          "DAL_2013",
          "DAL_2014",
          "DAL_2015",
          "DAL_2016",
          "DAL_2017",
          "DAL_2018",
          "DAL_2019",
          "DAL_2020",
          "DAL_2021",
          "DEN_2008",
          "DEN_2009",
          "DEN_2010",
          "DEN_2011",
          "DEN_2012",
          "DEN_2013",
          "DEN_2014",
          "DEN_2015",
          "DEN_2016",
          "DEN_2017",
          "DEN_2018",
          "DEN_2019",
          "DEN_2020",
          "DEN_2021",
          "DET_2008",
          "DET_2009",
          "DET_2010",
          "DET_2011",
          "DET_2012",
          "DET_2013",
          "DET_2014",
          "DET_2015",
          "DET_2016",
          "DET_2017",
          "DET_2018",
          "DET_2019",
          "DET_2020",
          "DET_2021",
          "GSW_2008",
          "GSW_2009",
          "GSW_2010",
          "GSW_2011",
          "GSW_2012",
          "GSW_2013",
          "GSW_2014",
          "GSW_2015",
          "GSW_2016",
          "GSW_2017",
          "GSW_2018",
          "GSW_2019",
          "GSW_2020",
          "GSW_2021",
          "HOU_2008",
          "HOU_2009",
          "HOU_2010",
          "HOU_2011",
          "HOU_2012",
          "HOU_2013",
          "HOU_2014",
          "HOU_2015",
          "HOU_2016",
          "HOU_2017",
          "HOU_2018",
          "HOU_2019",
          "HOU_2020",
          "HOU_2021",
          "IND_2008",
          "IND_2009",
          "IND_2010",
          "IND_2011",
          "IND_2012",
          "IND_2013",
          "IND_2014",
          "IND_2015",
          "IND_2016",
          "IND_2017",
          "IND_2018",
          "IND_2019",
          "IND_2020",
          "IND_2021",
          "LAC_2008",
          "LAC_2009",
          "LAC_2010",
          "LAC_2011",
          "LAC_2012",
          "LAC_2013",
          "LAC_2014",
          "LAC_2015",
          "LAC_2016",
          "LAC_2017",
          "LAC_2018",
          "LAC_2019",
          "LAC_2020",
          "LAC_2021",
          "LAL_2008",
          "LAL_2009",
          "LAL_2010",
          "LAL_2011",
          "LAL_2012",
          "LAL_2013",
          "LAL_2014",
          "LAL_2015",
          "LAL_2016",
          "LAL_2017",
          "LAL_2018",
          "LAL_2019",
          "LAL_2020",
          "LAL_2021",
          "MEM_2008",
          "MEM_2009",
          "MEM_2010",
          "MEM_2011",
          "MEM_2012",
          "MEM_2013",
          "MEM_2014",
          "MEM_2015",
          "MEM_2016",
          "MEM_2017",
          "MEM_2018",
          "MEM_2019",
          "MEM_2020",
          "MEM_2021",
          "MIA_2008",
          "MIA_2009",
          "MIA_2010",
          "MIA_2011",
          "MIA_2012",
          "MIA_2013",
          "MIA_2014",
          "MIA_2015",
          "MIA_2016",
          "MIA_2017",
          "MIA_2018",
          "MIA_2019",
          "MIA_2020",
          "MIA_2021",
          "MIL_2008",
          "MIL_2009",
          "MIL_2010",
          "MIL_2011",
          "MIL_2012",
          "MIL_2013",
          "MIL_2014",
          "MIL_2015",
          "MIL_2016",
          "MIL_2017",
          "MIL_2018",
          "MIL_2019",
          "MIL_2020",
          "MIL_2021",
          "MIN_2008",
          "MIN_2009",
          "MIN_2010",
          "MIN_2011",
          "MIN_2012",
          "MIN_2013",
          "MIN_2014",
          "MIN_2015",
          "MIN_2016",
          "MIN_2017",
          "MIN_2018",
          "MIN_2019",
          "MIN_2020",
          "MIN_2021",
          "NOP_2008",
          "NOP_2009",
          "NOP_2010",
          "NOP_2011",
          "NOP_2012",
          "NOP_2013",
          "NOP_2014",
          "NOP_2015",
          "NOP_2016",
          "NOP_2017",
          "NOP_2018",
          "NOP_2019",
          "NOP_2020",
          "NOP_2021",
          "NYK_2008",
          "NYK_2009",
          "NYK_2010",
          "NYK_2011",
          "NYK_2012",
          "NYK_2013",
          "NYK_2014",
          "NYK_2015",
          "NYK_2016",
          "NYK_2017",
          "NYK_2018",
          "NYK_2019",
          "NYK_2020",
          "NYK_2021",
          "OKC_2008",
          "OKC_2009",
          "OKC_2010",
          "OKC_2011",
          "OKC_2012",
          "OKC_2013",
          "OKC_2014",
          "OKC_2015",
          "OKC_2016",
          "OKC_2017",
          "OKC_2018",
          "OKC_2019",
          "OKC_2020",
          "OKC_2021",
          "ORL_2008",
          "ORL_2009",
          "ORL_2010",
          "ORL_2011",
          "ORL_2012",
          "ORL_2013",
          "ORL_2014",
          "ORL_2015",
          "ORL_2016",
          "ORL_2017",
          "ORL_2018",
          "ORL_2019",
          "ORL_2020",
          "ORL_2021",
          "PHI_2008",
          "PHI_2009",
          "PHI_2010",
          "PHI_2011",
          "PHI_2012",
          "PHI_2013",
          "PHI_2014",
          "PHI_2015",
          "PHI_2016",
          "PHI_2017",
          "PHI_2018",
          "PHI_2019",
          "PHI_2020",
          "PHI_2021",
          "PHX_2008",
          "PHX_2009",
          "PHX_2010",
          "PHX_2011",
          "PHX_2012",
          "PHX_2013",
          "PHX_2014",
          "PHX_2015",
          "PHX_2016",
          "PHX_2017",
          "PHX_2018",
          "PHX_2019",
          "PHX_2020",
          "PHX_2021",
          "POR_2008",
          "POR_2009",
          "POR_2010",
          "POR_2011",
          "POR_2012",
          "POR_2013",
          "POR_2014",
          "POR_2015",
          "POR_2016",
          "POR_2017",
          "POR_2018",
          "POR_2019",
          "POR_2020",
          "POR_2021",
          "SAC_2008",
          "SAC_2009",
          "SAC_2010",
          "SAC_2011",
          "SAC_2012",
          "SAC_2013",
          "SAC_2014",
          "SAC_2015",
          "SAC_2016",
          "SAC_2017",
          "SAC_2018",
          "SAC_2019",
          "SAC_2020",
          "SAC_2021",
          "SAS_2008",
          "SAS_2009",
          "SAS_2010",
          "SAS_2011",
          "SAS_2012",
          "SAS_2013",
          "SAS_2014",
          "SAS_2015",
          "SAS_2016",
          "SAS_2017",
          "SAS_2018",
          "SAS_2019",
          "SAS_2020",
          "SAS_2021",
          "TOR_2008",
          "TOR_2009",
          "TOR_2010",
          "TOR_2011",
          "TOR_2012",
          "TOR_2013",
          "TOR_2014",
          "TOR_2015",
          "TOR_2016",
          "TOR_2017",
          "TOR_2018",
          "TOR_2019",
          "TOR_2020",
          "TOR_2021",
          "UTA_2008",
          "UTA_2009",
          "UTA_2010",
          "UTA_2011",
          "UTA_2012",
          "UTA_2013",
          "UTA_2014",
          "UTA_2015",
          "UTA_2016",
          "UTA_2017",
          "UTA_2018",
          "UTA_2019",
          "UTA_2020",
          "UTA_2021",
          "WAS_2008",
          "WAS_2009",
          "WAS_2010",
          "WAS_2011",
          "WAS_2012",
          "WAS_2013",
          "WAS_2014",
          "WAS_2015",
          "WAS_2016",
          "WAS_2017",
          "WAS_2018",
          "WAS_2019",
          "WAS_2020",
          "WAS_2021"
         ],
         "mode": "markers",
         "type": "scatter",
         "x": [
          -4.260869565217391,
          -0.7608695652173907,
          -1.4893617021276526,
          0.9722222222222285,
          -1.5,
          -2.7111111111111086,
          1.6122448979591866,
          0.28260869565217206,
          -2.113636363636374,
          -6.853658536585371,
          -8.219512195121965,
          -13.333333333333343,
          -2.085106382978722,
          -2.7551020408163254,
          -3.9512195121951237,
          -11,
          -9.243902439024396,
          -5.424242424242422,
          0.681818181818187,
          -5.166666666666671,
          -3.7045454545454675,
          -9.63414634146342,
          -7.926829268292693,
          -4.390243902439025,
          -3.2954545454545467,
          -3.526315789473685,
          3.414634146341456,
          2.6521739130434696,
          4.0212765957446805,
          2.8490566037735903,
          2.2608695652173907,
          -2.7906976744186096,
          -4.931818181818187,
          -6.439024390243901,
          -1.6744186046511658,
          -0.22727272727273373,
          0.816326530612244,
          0.18367346938775597,
          1.608695652173921,
          4.733333333333334,
          -1.2820512820512704,
          6.74545454545455,
          -4.707317073170728,
          -4.023255813953483,
          -7.365853658536594,
          -15.454545454545467,
          -14.243902439024396,
          -2.860465116279073,
          -4.731707317073173,
          -2.5111111111111057,
          -2.82926829268294,
          -1.4146341463414558,
          -5.878048780487802,
          -8.088235294117652,
          -4.378378378378372,
          -1.5434782608695627,
          -4.577777777777783,
          -4.2272727272727195,
          3.875,
          7.194444444444443,
          -2.354166666666657,
          -1.2325581395348877,
          2.4468085106382915,
          -4.58536585365853,
          -1.886363636363626,
          -9.487804878048792,
          -7.024390243902431,
          -4.806451612903231,
          -0.0833333333333286,
          -3.4130434782608745,
          3.625,
          4.41304347826086,
          -12.341463414634148,
          -7.484848484848484,
          -6.341463414634134,
          -6.7804878048780495,
          1.9411764705882462,
          3,
          0.05882352941176805,
          -1.0192307692307594,
          -11.878048780487802,
          -9.620689655172413,
          -10.1388888888889,
          -0.21739130434782794,
          -3.042553191489361,
          2.6136363636363598,
          2.3921568627450966,
          -2.6000000000000085,
          -3.58536585365853,
          0.6444444444444457,
          0.7954545454545467,
          -3.931818181818187,
          -7.341463414634148,
          -6,
          -4.902439024390233,
          3.6750000000000114,
          3.9749999999999943,
          -1.537037037037038,
          0.7083333333333286,
          -1.4545454545454533,
          -1.5227272727272805,
          1.0270270270270174,
          -0.9772727272727337,
          -5.170731707317074,
          -7.41463414634147,
          -3.853658536585357,
          -2.146341463414629,
          -3.0243902439024453,
          -2.765957446808514,
          -0.7777777777777715,
          1.853658536585371,
          0.7234042553191529,
          -1.8139534883720927,
          -6.926829268292693,
          -6.731707317073173,
          -9.030303030303031,
          -7.390243902439025,
          -4.82926829268294,
          -2.3414634146341484,
          -4.11627906976743,
          -6.292682926829258,
          -3.414634146341456,
          -4.209302325581405,
          -5.060606060606062,
          -5.888888888888886,
          -9.63636363636364,
          -8.926829268292693,
          -8.024390243902445,
          -7.390243902439025,
          -4.636363636363626,
          -2.191489361702139,
          0.8222222222222229,
          6.098039215686271,
          4.607843137254903,
          7.714285714285708,
          4.196078431372541,
          6.115384615384613,
          -8.709677419354847,
          -3.1081081081081123,
          1.6111111111111143,
          -1.7708333333333286,
          -2.268292682926827,
          -0.3414634146341484,
          -4.333333333333329,
          -0.8863636363636402,
          0.11363636363635976,
          -0.4285714285714306,
          -2.75,
          2.4130434782608745,
          5.8125,
          1.5652173913043583,
          -0.4523809523809632,
          -7.3611111111111,
          -9.568181818181813,
          -4.756097560975604,
          -7.878048780487802,
          -6.090909090909079,
          -0.07894736842105488,
          -1.480000000000004,
          -1.6599999999999966,
          -2.146341463414629,
          -0.7777777777777857,
          -5.558139534883722,
          -0.04444444444445139,
          -1.3488372093023315,
          -1.538461538461533,
          1.8648648648648702,
          -4.673913043478265,
          -9.951219512195124,
          -9.95121951219511,
          -7.439024390243901,
          -1.1282051282051384,
          0.8863636363636402,
          2.4468085106383057,
          3.6666666666666714,
          1,
          -0.20454545454545325,
          -0.9512195121951237,
          -1.5909090909090935,
          4.333333333333329,
          4.48888888888888,
          -2.8863636363636402,
          4.711538461538453,
          0.25,
          2.847826086956516,
          -4.615384615384613,
          -3.302325581395351,
          -8.463414634146346,
          -8.463414634146346,
          -12.926829268292693,
          -12.19512195121952,
          -3.975609756097569,
          -3.268292682926841,
          4.533333333333331,
          1.076923076923066,
          -4.934782608695656,
          -7.658536585365852,
          -3.0731707317073216,
          -3.125,
          -2.305555555555543,
          1.0408163265306172,
          0.04444444444445139,
          -0.45652173913043725,
          -5.976744186046503,
          -2.3409090909090935,
          -9.682926829268297,
          -5.609756097560975,
          -3.432432432432435,
          1.875,
          1.1400000000000006,
          -4.244444444444454,
          -0.045454545454546746,
          4.215686274509807,
          1.1860465116279073,
          4.490196078431367,
          1.470588235294116,
          -4.170731707317074,
          -2.7291666666666714,
          -1.8292682926829258,
          -1.7045454545454533,
          -0.7073170731707279,
          -1.8333333333333286,
          -1.3421052631579045,
          2.5192307692307736,
          -5.073170731707307,
          -0.7555555555555458,
          -3.731707317073173,
          0.06060606060606233,
          -3.7674418604651265,
          -9.243902439024396,
          -1.068181818181813,
          -7.341463414634134,
          -3.068181818181813,
          -2.3555555555555543,
          5.416666666666671,
          6.833333333333329,
          2.604166666666657,
          1.8039215686274588,
          -4.048780487804876,
          -13.634146341463406,
          -9.975609756097555,
          -2.1212121212121247,
          -5.536585365853654,
          -0.8780487804878021,
          -10.463414634146332,
          -3.268292682926827,
          -5.121951219512198,
          -2.0681818181818272,
          -5.878048780487802,
          -3.9375,
          -4.8888888888889,
          0.2608695652173907,
          -2.8863636363636402,
          -5.829268292682926,
          -2.0227272727272805,
          -4.757575757575751,
          -5.58536585365853,
          -6.609756097560975,
          -2.7674418604651123,
          -6.926829268292678,
          -4.756097560975618,
          0.4782608695652186,
          -1.7804878048780495,
          -3.8611111111111143,
          -2,
          -1.8571428571428612,
          -4.268292682926827,
          -6.975609756097569,
          -0.4418604651162781,
          -2.305555555555557,
          -0.46808510638297207,
          -2.41463414634147,
          -10.536585365853668,
          -3.975609756097569,
          -5.756097560975604,
          -8.195121951219505,
          -10.560975609756099,
          -7.818181818181813,
          -0.28947368421053454,
          1.3023255813953512,
          -8.512195121951223,
          0.45454545454545325,
          0.7551020408163254,
          1.6744186046511658,
          4.782608695652172,
          1.8199999999999932,
          -2.6341463414634063,
          3.3599999999999994,
          -5.068181818181813,
          0.5227272727272663,
          1.1818181818181728,
          -1.9743589743589638,
          -9.222222222222229,
          -9.883720930232556,
          2.490566037735846,
          3.3958333333333286,
          1.5454545454545467,
          -2.8888888888888857,
          -6.975609756097555,
          -9.878048780487802,
          -6.2195121951219505,
          -5.58536585365853,
          -9.560975609756099,
          -6.048780487804876,
          -2.181818181818187,
          -1.9268292682926926,
          -9.611111111111114,
          -7.688888888888897,
          -4.0909090909090935,
          -3,
          -2.75,
          0.42499999999999716,
          -5.463414634146332,
          -10.926829268292693,
          -12.902439024390247,
          -10.829268292682926,
          -7.829268292682926,
          0.7391304347826093,
          -2.8723404255319167,
          -4.3999999999999915,
          2.9268292682926926,
          -0.47999999999998977,
          -2.4878048780487916,
          0.3877551020408134,
          -2.6097560975609753,
          -3.2727272727272663,
          -9.731707317073173,
          -0.14634146341464316,
          -2.853658536585371,
          -10.609756097560975,
          -9.024390243902445,
          -8.439024390243901,
          -12.390243902439025,
          -1.67647058823529,
          2.2978723404255277,
          3.759999999999991,
          -0.13636363636362603,
          0.75,
          -3.0909090909090935,
          -6.848484848484858,
          -6.682926829268297,
          0.0851063829787222,
          -0.681818181818187,
          -4.765957446808514,
          -4.860465116279073,
          -0.023255813953483084,
          -0.7916666666666714,
          -4.439024390243901,
          1.8461538461538538,
          -12.232558139534888,
          -11.536585365853654,
          -7.487804878048777,
          -7.243902439024396,
          -9,
          -9.512195121951208,
          -5.317073170731703,
          -6.463414634146346,
          -3.829268292682926,
          -5.902439024390247,
          -8.707317073170742,
          -3.682926829268297,
          -2.2162162162162105,
          -2.8888888888888857,
          -5.465116279069761,
          1.7674418604651123,
          0.9565217391304373,
          0.75,
          1.9249999999999972,
          3.0961538461538396,
          5.803921568627445,
          2.3555555555555543,
          6.6304347826087024,
          4.897959183673464,
          -2.4772727272727337,
          -3.75555555555556,
          -3.297297297297291,
          -0.2702702702702737,
          -0.543478260869577,
          -6.097560975609753,
          -4.902439024390247,
          -10,
          -6,
          -4.7804878048780495,
          1.4545454545454533,
          0.83720930232559,
          -0.4399999999999977,
          -0.36956521739129755,
          3.391304347826093,
          3.7692307692307736,
          5.487804878048777,
          -2.444444444444443,
          -0.28260869565218627,
          -4.704545454545453,
          0.2608695652173907,
          -4.463414634146332,
          -5.828571428571436,
          -5.268292682926827,
          -10.658536585365852,
          -2.4878048780487916,
          -1.9268292682926784,
          1.1063829787234027,
          0.23404255319148604,
          1.1363636363636402,
          0.9512195121951237,
          3.7804878048780495,
          1.25,
          -10.195121951219505,
          -6.8048780487804805,
          -12.756097560975618,
          -7.212121212121218,
          -7.7804878048780495,
          1.3191489361702082,
          -3.934782608695656,
          -3.5365853658536537,
          -2.5,
          -2.5454545454545467,
          -7.560975609756085,
          -7.4722222222222285,
          -4.900000000000006,
          -4.4090909090909065
         ],
         "y": [
          5.255319148936167,
          7.276595744680861,
          -1.0638297872340416,
          4.555555555555543,
          1.5454545454545467,
          1.7272727272727195,
          7.408163265306129,
          5.934782608695642,
          0.36363636363635976,
          -4.0487804878048905,
          -4.024390243902445,
          -2.764705882352942,
          5.4090909090909065,
          3.391304347826093,
          -0.9268292682926784,
          -7.243902439024396,
          -3.2439024390243816,
          -6.5454545454545325,
          2.8888888888888857,
          3.2608695652173907,
          -2.4090909090909065,
          -5.073170731707322,
          -5.536585365853654,
          -3.0975609756097526,
          1.9534883720930338,
          0.28947368421053454,
          7.627906976744185,
          -1.6739130434782652,
          8.714285714285708,
          4.056603773584911,
          7.733333333333334,
          7.116279069767444,
          3.883720930232556,
          -2.4878048780487916,
          1.1162790697674438,
          5.295454545454547,
          2.4313725490196134,
          5.730769230769241,
          6.155555555555566,
          7.4090909090909065,
          3,
          6.553571428571431,
          2.170731707317074,
          5.95348837209302,
          -0.6341463414634205,
          -12.36363636363636,
          -4.2195121951219505,
          1.5348837209302246,
          -1.6097560975609753,
          6.2272727272727195,
          3.2195121951219505,
          1.9268292682926784,
          3.6829268292682826,
          -5.290322580645167,
          -0.11111111111111427,
          1.1627906976744242,
          3.4772727272727337,
          0.13953488372094114,
          9.64,
          7.5277777777777715,
          1.282608695652172,
          4.13636363636364,
          3.659574468085097,
          1.6341463414634205,
          1.75,
          -4.585365853658544,
          -9.804878048780495,
          -1.5,
          -1.6944444444444429,
          1.2127659574468055,
          14.104166666666671,
          7.361702127659569,
          -5.682926829268297,
          -6.9090909090909065,
          -3.0243902439024453,
          0.19512195121951947,
          6.82352941176471,
          10.137254901960787,
          8.183673469387756,
          1.7692307692307594,
          -7.341463414634148,
          -6.5,
          -6.8611111111111,
          4.318181818181827,
          6.577777777777769,
          2.3863636363636402,
          6.65384615384616,
          3.657142857142844,
          2.3902439024390247,
          3.5,
          4.232558139534888,
          1.3255813953488484,
          1.4878048780487774,
          -0.07317073170732158,
          2.3414634146341484,
          4.048780487804876,
          -0.8205128205128318,
          6.372549019607845,
          7.680000000000007,
          8.909090909090907,
          10.069767441860463,
          4.305555555555557,
          9.88636363636364,
          0.8780487804878021,
          0.31707317073170316,
          -2.3414634146341484,
          3.170731707317074,
          5.975609756097555,
          9.833333333333329,
          3.4347826086956417,
          5.463414634146332,
          1.8695652173912976,
          -0.5581395348837219,
          -3.292682926829272,
          -0.4634146341463463,
          -0.5454545454545467,
          -0.58536585365853,
          -2.4878048780487774,
          0.3414634146341484,
          4.4883720930232585,
          4.048780487804876,
          3.121951219512198,
          1.5348837209302388,
          -2.0606060606060623,
          -3.055555555555557,
          -4.860465116279073,
          1.439024390243901,
          0.8292682926829258,
          2.731707317073173,
          -2.181818181818187,
          3.7872340425531803,
          7.4090909090909065,
          13.096153846153854,
          13.672727272727272,
          16.120000000000005,
          9.34615384615384,
          5.5,
          -8.705882352941174,
          4.945945945945951,
          9.438596491228068,
          8.38297872340425,
          1.5365853658536537,
          4.707317073170728,
          4.787878787878782,
          6.568181818181813,
          8.431818181818173,
          5.219999999999999,
          1,
          7.9787234042553195,
          8.764705882352942,
          7.531914893617028,
          5.738095238095241,
          -8.444444444444443,
          -6.181818181818187,
          2.536585365853668,
          1.853658536585371,
          3.3255813953488342,
          6.051282051282058,
          8.060000000000002,
          8.333333333333329,
          2.707317073170728,
          4.204545454545453,
          4.767441860465112,
          3.5227272727272663,
          7,
          4.23684210526315,
          -1.945945945945951,
          -0.5581395348837219,
          -7.585365853658544,
          -2.756097560975604,
          1.1707317073170742,
          4.26315789473685,
          10.38636363636364,
          10.0625,
          7.979166666666657,
          7.11363636363636,
          7.8444444444444485,
          1.024390243902431,
          1.818181818181813,
          7.837209302325576,
          6.956521739130423,
          1.9782608695652186,
          10.358490566037744,
          8.716981132075475,
          7.760869565217391,
          5.743589743589752,
          3.7674418604651265,
          -4.121951219512198,
          -5.2195121951219505,
          -6.195121951219505,
          -1.560975609756099,
          0.8780487804878021,
          -0.1707317073170742,
          7.3695652173912976,
          3.075000000000003,
          -2.883720930232556,
          -3.268292682926827,
          0.048780487804876316,
          7.085106382978722,
          5.972972972972968,
          6.208333333333343,
          2.0227272727272663,
          5.808510638297875,
          -0.3488372093023173,
          2.1136363636363598,
          -2.731707317073173,
          0.43902439024390105,
          1.2162162162162247,
          -0.8717948717948616,
          8.74509803921569,
          4.954545454545453,
          3.441860465116278,
          8.711538461538467,
          11.021739130434781,
          10.444444444444443,
          6.862745098039213,
          -1.0243902439024453,
          6.458333333333343,
          3.9512195121951237,
          1.3953488372092977,
          0.2439024390243958,
          7.5,
          -0.7631578947368354,
          5.857142857142861,
          2.9024390243902474,
          3.3409090909090935,
          2.0487804878048763,
          0.4848484848484844,
          -0.4651162790697754,
          -7.121951219512198,
          0.18181818181817277,
          -1.024390243902431,
          2.6363636363636402,
          1.75,
          12.224489795918359,
          11.243902439024396,
          7.666666666666671,
          3.326530612244909,
          -5.7804878048780495,
          -5.560975609756099,
          -3.292682926829258,
          -2.2727272727272805,
          0.8048780487804805,
          6.2195121951219505,
          -7.121951219512198,
          -3.8048780487804805,
          2.902439024390233,
          5.348837209302317,
          2.8780487804878163,
          -5.21875,
          -6.222222222222214,
          3.9183673469387656,
          3.0930232558139608,
          0.9024390243902474,
          2.7045454545454533,
          -2.757575757575765,
          -2.146341463414629,
          1.1951219512195195,
          3.534883720930239,
          -0.6585365853658516,
          0.560975609756099,
          1.7333333333333343,
          -0.8780487804878021,
          1.2777777777777715,
          1.5277777777777715,
          1.8297872340425556,
          -0.9512195121951237,
          -0.6585365853658516,
          1.139534883720927,
          6.400000000000006,
          8.531914893617014,
          0.8292682926829258,
          -8.097560975609753,
          -1.4878048780487774,
          -1.5853658536585442,
          1.0731707317073216,
          -7.853658536585357,
          -5.0909090909090935,
          3.641025641025635,
          -0.8043478260869534,
          -3.682926829268297,
          5.818181818181813,
          6.1200000000000045,
          9.581395348837205,
          11.702127659574458,
          8.019607843137251,
          7,
          10.47999999999999,
          5.627906976744185,
          5.25,
          4.813953488372093,
          4.375,
          -12.055555555555557,
          -6.599999999999994,
          8.698113207547166,
          11.916666666666671,
          8.88636363636364,
          2.914285714285711,
          -7,
          -1,
          -5.2195121951219505,
          2.3414634146341484,
          -3.585365853658544,
          -3.58536585365853,
          1.9069767441860392,
          -1.1081081081081123,
          -9,
          -7.5116279069767415,
          3.1818181818181728,
          -4.8048780487804805,
          4.813953488372093,
          6.333333333333329,
          -1.2195121951219505,
          -9.975609756097569,
          -5.048780487804876,
          -9.634146341463406,
          -3.560975609756099,
          8.130434782608702,
          8.319148936170208,
          8.189189189189193,
          8.651162790697683,
          3.819999999999993,
          6.341463414634148,
          9.326530612244895,
          0.8292682926829258,
          2.787878787878796,
          -3.1951219512195195,
          5.414634146341456,
          1.0487804878048763,
          -2.707317073170742,
          -2.2439024390243816,
          -10.292682926829272,
          -6.292682926829272,
          1.8717948717948758,
          8.702127659574472,
          8,
          9.36363636363636,
          4,
          5.2272727272727195,
          5.606060606060609,
          0.3414634146341484,
          5.521739130434781,
          7.976744186046503,
          5.739130434782609,
          2.1860465116279073,
          4.139534883720941,
          7.510204081632651,
          1.2307692307692406,
          1.2564102564102626,
          -5.200000000000003,
          -5.975609756097569,
          -1.2439024390243816,
          -3.439024390243901,
          -2.3636363636363598,
          -0.2439024390243958,
          -0.4878048780487916,
          -0.9512195121951237,
          -1.121951219512198,
          -1.853658536585371,
          -5.268292682926827,
          1.439024390243901,
          -1.8571428571428612,
          -5,
          -2.9787234042553195,
          4.5909090909090935,
          7.369565217391312,
          9.454545454545453,
          11.974999999999994,
          10.019607843137251,
          10.203703703703695,
          9.204545454545453,
          14.304347826086953,
          7.469387755102034,
          7.023255813953497,
          6.681818181818173,
          1.794117647058826,
          -3.305555555555557,
          0.5227272727272663,
          0.4634146341463463,
          1.3414634146341484,
          -2.560975609756099,
          -0.6060606060606091,
          1.8292682926829258,
          4.24444444444444,
          3.720930232558132,
          5.884615384615387,
          6.630434782608688,
          9.521739130434781,
          8.037037037037038,
          6.404761904761912,
          1.5,
          3.9791666666666714,
          8.79069767441861,
          8.782608695652186,
          0.8048780487804947,
          5.171428571428578,
          5.097560975609753,
          -3.682926829268297,
          2.9268292682926926,
          5.512195121951223,
          4.760869565217391,
          6.91304347826086,
          7.79069767441861,
          4.2894736842105345,
          11.952380952380949,
          9.282608695652172,
          -4.731707317073173,
          -2.756097560975604,
          -2.0487804878048763,
          -2.393939393939391,
          2.707317073170728,
          1.1304347826086882,
          6.065217391304358,
          2.536585365853668,
          5.702127659574458,
          3.3636363636363598,
          1.7560975609756184,
          -1.8611111111111143,
          0.0769230769230802,
          -0.8863636363636402
         ]
        }
       ],
       "layout": {
        "hovermode": "closest",
        "template": {
         "data": {
          "bar": [
           {
            "error_x": {
             "color": "#2a3f5f"
            },
            "error_y": {
             "color": "#2a3f5f"
            },
            "marker": {
             "line": {
              "color": "#E5ECF6",
              "width": 0.5
             },
             "pattern": {
              "fillmode": "overlay",
              "size": 10,
              "solidity": 0.2
             }
            },
            "type": "bar"
           }
          ],
          "barpolar": [
           {
            "marker": {
             "line": {
              "color": "#E5ECF6",
              "width": 0.5
             },
             "pattern": {
              "fillmode": "overlay",
              "size": 10,
              "solidity": 0.2
             }
            },
            "type": "barpolar"
           }
          ],
          "carpet": [
           {
            "aaxis": {
             "endlinecolor": "#2a3f5f",
             "gridcolor": "white",
             "linecolor": "white",
             "minorgridcolor": "white",
             "startlinecolor": "#2a3f5f"
            },
            "baxis": {
             "endlinecolor": "#2a3f5f",
             "gridcolor": "white",
             "linecolor": "white",
             "minorgridcolor": "white",
             "startlinecolor": "#2a3f5f"
            },
            "type": "carpet"
           }
          ],
          "choropleth": [
           {
            "colorbar": {
             "outlinewidth": 0,
             "ticks": ""
            },
            "type": "choropleth"
           }
          ],
          "contour": [
           {
            "colorbar": {
             "outlinewidth": 0,
             "ticks": ""
            },
            "colorscale": [
             [
              0,
              "#0d0887"
             ],
             [
              0.1111111111111111,
              "#46039f"
             ],
             [
              0.2222222222222222,
              "#7201a8"
             ],
             [
              0.3333333333333333,
              "#9c179e"
             ],
             [
              0.4444444444444444,
              "#bd3786"
             ],
             [
              0.5555555555555556,
              "#d8576b"
             ],
             [
              0.6666666666666666,
              "#ed7953"
             ],
             [
              0.7777777777777778,
              "#fb9f3a"
             ],
             [
              0.8888888888888888,
              "#fdca26"
             ],
             [
              1,
              "#f0f921"
             ]
            ],
            "type": "contour"
           }
          ],
          "contourcarpet": [
           {
            "colorbar": {
             "outlinewidth": 0,
             "ticks": ""
            },
            "type": "contourcarpet"
           }
          ],
          "heatmap": [
           {
            "colorbar": {
             "outlinewidth": 0,
             "ticks": ""
            },
            "colorscale": [
             [
              0,
              "#0d0887"
             ],
             [
              0.1111111111111111,
              "#46039f"
             ],
             [
              0.2222222222222222,
              "#7201a8"
             ],
             [
              0.3333333333333333,
              "#9c179e"
             ],
             [
              0.4444444444444444,
              "#bd3786"
             ],
             [
              0.5555555555555556,
              "#d8576b"
             ],
             [
              0.6666666666666666,
              "#ed7953"
             ],
             [
              0.7777777777777778,
              "#fb9f3a"
             ],
             [
              0.8888888888888888,
              "#fdca26"
             ],
             [
              1,
              "#f0f921"
             ]
            ],
            "type": "heatmap"
           }
          ],
          "heatmapgl": [
           {
            "colorbar": {
             "outlinewidth": 0,
             "ticks": ""
            },
            "colorscale": [
             [
              0,
              "#0d0887"
             ],
             [
              0.1111111111111111,
              "#46039f"
             ],
             [
              0.2222222222222222,
              "#7201a8"
             ],
             [
              0.3333333333333333,
              "#9c179e"
             ],
             [
              0.4444444444444444,
              "#bd3786"
             ],
             [
              0.5555555555555556,
              "#d8576b"
             ],
             [
              0.6666666666666666,
              "#ed7953"
             ],
             [
              0.7777777777777778,
              "#fb9f3a"
             ],
             [
              0.8888888888888888,
              "#fdca26"
             ],
             [
              1,
              "#f0f921"
             ]
            ],
            "type": "heatmapgl"
           }
          ],
          "histogram": [
           {
            "marker": {
             "pattern": {
              "fillmode": "overlay",
              "size": 10,
              "solidity": 0.2
             }
            },
            "type": "histogram"
           }
          ],
          "histogram2d": [
           {
            "colorbar": {
             "outlinewidth": 0,
             "ticks": ""
            },
            "colorscale": [
             [
              0,
              "#0d0887"
             ],
             [
              0.1111111111111111,
              "#46039f"
             ],
             [
              0.2222222222222222,
              "#7201a8"
             ],
             [
              0.3333333333333333,
              "#9c179e"
             ],
             [
              0.4444444444444444,
              "#bd3786"
             ],
             [
              0.5555555555555556,
              "#d8576b"
             ],
             [
              0.6666666666666666,
              "#ed7953"
             ],
             [
              0.7777777777777778,
              "#fb9f3a"
             ],
             [
              0.8888888888888888,
              "#fdca26"
             ],
             [
              1,
              "#f0f921"
             ]
            ],
            "type": "histogram2d"
           }
          ],
          "histogram2dcontour": [
           {
            "colorbar": {
             "outlinewidth": 0,
             "ticks": ""
            },
            "colorscale": [
             [
              0,
              "#0d0887"
             ],
             [
              0.1111111111111111,
              "#46039f"
             ],
             [
              0.2222222222222222,
              "#7201a8"
             ],
             [
              0.3333333333333333,
              "#9c179e"
             ],
             [
              0.4444444444444444,
              "#bd3786"
             ],
             [
              0.5555555555555556,
              "#d8576b"
             ],
             [
              0.6666666666666666,
              "#ed7953"
             ],
             [
              0.7777777777777778,
              "#fb9f3a"
             ],
             [
              0.8888888888888888,
              "#fdca26"
             ],
             [
              1,
              "#f0f921"
             ]
            ],
            "type": "histogram2dcontour"
           }
          ],
          "mesh3d": [
           {
            "colorbar": {
             "outlinewidth": 0,
             "ticks": ""
            },
            "type": "mesh3d"
           }
          ],
          "parcoords": [
           {
            "line": {
             "colorbar": {
              "outlinewidth": 0,
              "ticks": ""
             }
            },
            "type": "parcoords"
           }
          ],
          "pie": [
           {
            "automargin": true,
            "type": "pie"
           }
          ],
          "scatter": [
           {
            "marker": {
             "colorbar": {
              "outlinewidth": 0,
              "ticks": ""
             }
            },
            "type": "scatter"
           }
          ],
          "scatter3d": [
           {
            "line": {
             "colorbar": {
              "outlinewidth": 0,
              "ticks": ""
             }
            },
            "marker": {
             "colorbar": {
              "outlinewidth": 0,
              "ticks": ""
             }
            },
            "type": "scatter3d"
           }
          ],
          "scattercarpet": [
           {
            "marker": {
             "colorbar": {
              "outlinewidth": 0,
              "ticks": ""
             }
            },
            "type": "scattercarpet"
           }
          ],
          "scattergeo": [
           {
            "marker": {
             "colorbar": {
              "outlinewidth": 0,
              "ticks": ""
             }
            },
            "type": "scattergeo"
           }
          ],
          "scattergl": [
           {
            "marker": {
             "colorbar": {
              "outlinewidth": 0,
              "ticks": ""
             }
            },
            "type": "scattergl"
           }
          ],
          "scattermapbox": [
           {
            "marker": {
             "colorbar": {
              "outlinewidth": 0,
              "ticks": ""
             }
            },
            "type": "scattermapbox"
           }
          ],
          "scatterpolar": [
           {
            "marker": {
             "colorbar": {
              "outlinewidth": 0,
              "ticks": ""
             }
            },
            "type": "scatterpolar"
           }
          ],
          "scatterpolargl": [
           {
            "marker": {
             "colorbar": {
              "outlinewidth": 0,
              "ticks": ""
             }
            },
            "type": "scatterpolargl"
           }
          ],
          "scatterternary": [
           {
            "marker": {
             "colorbar": {
              "outlinewidth": 0,
              "ticks": ""
             }
            },
            "type": "scatterternary"
           }
          ],
          "surface": [
           {
            "colorbar": {
             "outlinewidth": 0,
             "ticks": ""
            },
            "colorscale": [
             [
              0,
              "#0d0887"
             ],
             [
              0.1111111111111111,
              "#46039f"
             ],
             [
              0.2222222222222222,
              "#7201a8"
             ],
             [
              0.3333333333333333,
              "#9c179e"
             ],
             [
              0.4444444444444444,
              "#bd3786"
             ],
             [
              0.5555555555555556,
              "#d8576b"
             ],
             [
              0.6666666666666666,
              "#ed7953"
             ],
             [
              0.7777777777777778,
              "#fb9f3a"
             ],
             [
              0.8888888888888888,
              "#fdca26"
             ],
             [
              1,
              "#f0f921"
             ]
            ],
            "type": "surface"
           }
          ],
          "table": [
           {
            "cells": {
             "fill": {
              "color": "#EBF0F8"
             },
             "line": {
              "color": "white"
             }
            },
            "header": {
             "fill": {
              "color": "#C8D4E3"
             },
             "line": {
              "color": "white"
             }
            },
            "type": "table"
           }
          ]
         },
         "layout": {
          "annotationdefaults": {
           "arrowcolor": "#2a3f5f",
           "arrowhead": 0,
           "arrowwidth": 1
          },
          "autotypenumbers": "strict",
          "coloraxis": {
           "colorbar": {
            "outlinewidth": 0,
            "ticks": ""
           }
          },
          "colorscale": {
           "diverging": [
            [
             0,
             "#8e0152"
            ],
            [
             0.1,
             "#c51b7d"
            ],
            [
             0.2,
             "#de77ae"
            ],
            [
             0.3,
             "#f1b6da"
            ],
            [
             0.4,
             "#fde0ef"
            ],
            [
             0.5,
             "#f7f7f7"
            ],
            [
             0.6,
             "#e6f5d0"
            ],
            [
             0.7,
             "#b8e186"
            ],
            [
             0.8,
             "#7fbc41"
            ],
            [
             0.9,
             "#4d9221"
            ],
            [
             1,
             "#276419"
            ]
           ],
           "sequential": [
            [
             0,
             "#0d0887"
            ],
            [
             0.1111111111111111,
             "#46039f"
            ],
            [
             0.2222222222222222,
             "#7201a8"
            ],
            [
             0.3333333333333333,
             "#9c179e"
            ],
            [
             0.4444444444444444,
             "#bd3786"
            ],
            [
             0.5555555555555556,
             "#d8576b"
            ],
            [
             0.6666666666666666,
             "#ed7953"
            ],
            [
             0.7777777777777778,
             "#fb9f3a"
            ],
            [
             0.8888888888888888,
             "#fdca26"
            ],
            [
             1,
             "#f0f921"
            ]
           ],
           "sequentialminus": [
            [
             0,
             "#0d0887"
            ],
            [
             0.1111111111111111,
             "#46039f"
            ],
            [
             0.2222222222222222,
             "#7201a8"
            ],
            [
             0.3333333333333333,
             "#9c179e"
            ],
            [
             0.4444444444444444,
             "#bd3786"
            ],
            [
             0.5555555555555556,
             "#d8576b"
            ],
            [
             0.6666666666666666,
             "#ed7953"
            ],
            [
             0.7777777777777778,
             "#fb9f3a"
            ],
            [
             0.8888888888888888,
             "#fdca26"
            ],
            [
             1,
             "#f0f921"
            ]
           ]
          },
          "colorway": [
           "#636efa",
           "#EF553B",
           "#00cc96",
           "#ab63fa",
           "#FFA15A",
           "#19d3f3",
           "#FF6692",
           "#B6E880",
           "#FF97FF",
           "#FECB52"
          ],
          "font": {
           "color": "#2a3f5f"
          },
          "geo": {
           "bgcolor": "white",
           "lakecolor": "white",
           "landcolor": "#E5ECF6",
           "showlakes": true,
           "showland": true,
           "subunitcolor": "white"
          },
          "hoverlabel": {
           "align": "left"
          },
          "hovermode": "closest",
          "mapbox": {
           "style": "light"
          },
          "paper_bgcolor": "white",
          "plot_bgcolor": "#E5ECF6",
          "polar": {
           "angularaxis": {
            "gridcolor": "white",
            "linecolor": "white",
            "ticks": ""
           },
           "bgcolor": "#E5ECF6",
           "radialaxis": {
            "gridcolor": "white",
            "linecolor": "white",
            "ticks": ""
           }
          },
          "scene": {
           "xaxis": {
            "backgroundcolor": "#E5ECF6",
            "gridcolor": "white",
            "gridwidth": 2,
            "linecolor": "white",
            "showbackground": true,
            "ticks": "",
            "zerolinecolor": "white"
           },
           "yaxis": {
            "backgroundcolor": "#E5ECF6",
            "gridcolor": "white",
            "gridwidth": 2,
            "linecolor": "white",
            "showbackground": true,
            "ticks": "",
            "zerolinecolor": "white"
           },
           "zaxis": {
            "backgroundcolor": "#E5ECF6",
            "gridcolor": "white",
            "gridwidth": 2,
            "linecolor": "white",
            "showbackground": true,
            "ticks": "",
            "zerolinecolor": "white"
           }
          },
          "shapedefaults": {
           "line": {
            "color": "#2a3f5f"
           }
          },
          "ternary": {
           "aaxis": {
            "gridcolor": "white",
            "linecolor": "white",
            "ticks": ""
           },
           "baxis": {
            "gridcolor": "white",
            "linecolor": "white",
            "ticks": ""
           },
           "bgcolor": "#E5ECF6",
           "caxis": {
            "gridcolor": "white",
            "linecolor": "white",
            "ticks": ""
           }
          },
          "title": {
           "x": 0.05
          },
          "xaxis": {
           "automargin": true,
           "gridcolor": "white",
           "linecolor": "white",
           "ticks": "",
           "title": {
            "standoff": 15
           },
           "zerolinecolor": "white",
           "zerolinewidth": 2
          },
          "yaxis": {
           "automargin": true,
           "gridcolor": "white",
           "linecolor": "white",
           "ticks": "",
           "title": {
            "standoff": 15
           },
           "zerolinecolor": "white",
           "zerolinewidth": 2
          }
         }
        },
        "title": {
         "text": "Home vs Away Score Differential by Team"
        },
        "xaxis": {
         "title": {
          "text": "Away Score Differential"
         }
        },
        "yaxis": {
         "title": {
          "text": "Home Score Differential"
         }
        }
       }
      }
     },
     "metadata": {},
     "output_type": "display_data"
    }
   ],
   "source": [
    "# Which team win the most at home vs away?\n",
    "\n",
    "data = [go.Scatter(\n",
    "    x = df_scores['avg away diff'],\n",
    "    y = df_scores['avg home diff'],\n",
    "    mode = 'markers',\n",
    "    hovertext = df_scores['team_season']\n",
    ")]\n",
    "\n",
    "layout = go.Layout(\n",
    "    title = 'Home vs Away Score Differential by Team',\n",
    "    xaxis = dict(title = 'Away Score Differential'),\n",
    "    yaxis = dict(title = 'Home Score Differential'),\n",
    "    hovermode = 'closest'\n",
    ")\n",
    "\n",
    "fig = go.Figure(data=data, layout=layout)\n",
    "fig.show()"
   ]
  },
  {
   "cell_type": "code",
   "execution_count": 18,
   "metadata": {},
   "outputs": [
    {
     "data": {
      "application/vnd.plotly.v1+json": {
       "config": {
        "plotlyServerURL": "https://plot.ly"
       },
       "data": [
        {
         "type": "bar",
         "x": [
          "ATL",
          "BKN",
          "BOS",
          "CHA",
          "CHI",
          "CLE",
          "DAL",
          "DEN",
          "DET",
          "GSW",
          "HOU",
          "IND",
          "LAC",
          "LAL",
          "MEM",
          "MIA",
          "MIL",
          "MIN",
          "NOP",
          "NYK",
          "OKC",
          "ORL",
          "PHI",
          "PHX",
          "POR",
          "SAC",
          "SAS",
          "TOR",
          "UTA",
          "WAS"
         ],
         "y": [
          5.298639556819479,
          2.9132255623008914,
          4.345364842581594,
          5.834296568928799,
          3.3598308238242303,
          4.954167689066168,
          4.494672328362552,
          6.731963354347501,
          5.236320542758434,
          6.3750242365670875,
          5.448433658571449,
          6.4473058511026204,
          5.383839033757007,
          5.445966287547056,
          5.142933320952245,
          5.269992200433107,
          4.205839777998795,
          3.882657058011564,
          4.505790646900873,
          4.127804932972464,
          5.656663993444485,
          4.270561755111598,
          5.617760542051843,
          5.456216021514913,
          6.912227268444767,
          4.136236008928139,
          5.676347234319595,
          5.054803651368789,
          7.500783889881002,
          6.353500619261207
         ]
        }
       ],
       "layout": {
        "hovermode": "closest",
        "template": {
         "data": {
          "bar": [
           {
            "error_x": {
             "color": "#2a3f5f"
            },
            "error_y": {
             "color": "#2a3f5f"
            },
            "marker": {
             "line": {
              "color": "#E5ECF6",
              "width": 0.5
             },
             "pattern": {
              "fillmode": "overlay",
              "size": 10,
              "solidity": 0.2
             }
            },
            "type": "bar"
           }
          ],
          "barpolar": [
           {
            "marker": {
             "line": {
              "color": "#E5ECF6",
              "width": 0.5
             },
             "pattern": {
              "fillmode": "overlay",
              "size": 10,
              "solidity": 0.2
             }
            },
            "type": "barpolar"
           }
          ],
          "carpet": [
           {
            "aaxis": {
             "endlinecolor": "#2a3f5f",
             "gridcolor": "white",
             "linecolor": "white",
             "minorgridcolor": "white",
             "startlinecolor": "#2a3f5f"
            },
            "baxis": {
             "endlinecolor": "#2a3f5f",
             "gridcolor": "white",
             "linecolor": "white",
             "minorgridcolor": "white",
             "startlinecolor": "#2a3f5f"
            },
            "type": "carpet"
           }
          ],
          "choropleth": [
           {
            "colorbar": {
             "outlinewidth": 0,
             "ticks": ""
            },
            "type": "choropleth"
           }
          ],
          "contour": [
           {
            "colorbar": {
             "outlinewidth": 0,
             "ticks": ""
            },
            "colorscale": [
             [
              0,
              "#0d0887"
             ],
             [
              0.1111111111111111,
              "#46039f"
             ],
             [
              0.2222222222222222,
              "#7201a8"
             ],
             [
              0.3333333333333333,
              "#9c179e"
             ],
             [
              0.4444444444444444,
              "#bd3786"
             ],
             [
              0.5555555555555556,
              "#d8576b"
             ],
             [
              0.6666666666666666,
              "#ed7953"
             ],
             [
              0.7777777777777778,
              "#fb9f3a"
             ],
             [
              0.8888888888888888,
              "#fdca26"
             ],
             [
              1,
              "#f0f921"
             ]
            ],
            "type": "contour"
           }
          ],
          "contourcarpet": [
           {
            "colorbar": {
             "outlinewidth": 0,
             "ticks": ""
            },
            "type": "contourcarpet"
           }
          ],
          "heatmap": [
           {
            "colorbar": {
             "outlinewidth": 0,
             "ticks": ""
            },
            "colorscale": [
             [
              0,
              "#0d0887"
             ],
             [
              0.1111111111111111,
              "#46039f"
             ],
             [
              0.2222222222222222,
              "#7201a8"
             ],
             [
              0.3333333333333333,
              "#9c179e"
             ],
             [
              0.4444444444444444,
              "#bd3786"
             ],
             [
              0.5555555555555556,
              "#d8576b"
             ],
             [
              0.6666666666666666,
              "#ed7953"
             ],
             [
              0.7777777777777778,
              "#fb9f3a"
             ],
             [
              0.8888888888888888,
              "#fdca26"
             ],
             [
              1,
              "#f0f921"
             ]
            ],
            "type": "heatmap"
           }
          ],
          "heatmapgl": [
           {
            "colorbar": {
             "outlinewidth": 0,
             "ticks": ""
            },
            "colorscale": [
             [
              0,
              "#0d0887"
             ],
             [
              0.1111111111111111,
              "#46039f"
             ],
             [
              0.2222222222222222,
              "#7201a8"
             ],
             [
              0.3333333333333333,
              "#9c179e"
             ],
             [
              0.4444444444444444,
              "#bd3786"
             ],
             [
              0.5555555555555556,
              "#d8576b"
             ],
             [
              0.6666666666666666,
              "#ed7953"
             ],
             [
              0.7777777777777778,
              "#fb9f3a"
             ],
             [
              0.8888888888888888,
              "#fdca26"
             ],
             [
              1,
              "#f0f921"
             ]
            ],
            "type": "heatmapgl"
           }
          ],
          "histogram": [
           {
            "marker": {
             "pattern": {
              "fillmode": "overlay",
              "size": 10,
              "solidity": 0.2
             }
            },
            "type": "histogram"
           }
          ],
          "histogram2d": [
           {
            "colorbar": {
             "outlinewidth": 0,
             "ticks": ""
            },
            "colorscale": [
             [
              0,
              "#0d0887"
             ],
             [
              0.1111111111111111,
              "#46039f"
             ],
             [
              0.2222222222222222,
              "#7201a8"
             ],
             [
              0.3333333333333333,
              "#9c179e"
             ],
             [
              0.4444444444444444,
              "#bd3786"
             ],
             [
              0.5555555555555556,
              "#d8576b"
             ],
             [
              0.6666666666666666,
              "#ed7953"
             ],
             [
              0.7777777777777778,
              "#fb9f3a"
             ],
             [
              0.8888888888888888,
              "#fdca26"
             ],
             [
              1,
              "#f0f921"
             ]
            ],
            "type": "histogram2d"
           }
          ],
          "histogram2dcontour": [
           {
            "colorbar": {
             "outlinewidth": 0,
             "ticks": ""
            },
            "colorscale": [
             [
              0,
              "#0d0887"
             ],
             [
              0.1111111111111111,
              "#46039f"
             ],
             [
              0.2222222222222222,
              "#7201a8"
             ],
             [
              0.3333333333333333,
              "#9c179e"
             ],
             [
              0.4444444444444444,
              "#bd3786"
             ],
             [
              0.5555555555555556,
              "#d8576b"
             ],
             [
              0.6666666666666666,
              "#ed7953"
             ],
             [
              0.7777777777777778,
              "#fb9f3a"
             ],
             [
              0.8888888888888888,
              "#fdca26"
             ],
             [
              1,
              "#f0f921"
             ]
            ],
            "type": "histogram2dcontour"
           }
          ],
          "mesh3d": [
           {
            "colorbar": {
             "outlinewidth": 0,
             "ticks": ""
            },
            "type": "mesh3d"
           }
          ],
          "parcoords": [
           {
            "line": {
             "colorbar": {
              "outlinewidth": 0,
              "ticks": ""
             }
            },
            "type": "parcoords"
           }
          ],
          "pie": [
           {
            "automargin": true,
            "type": "pie"
           }
          ],
          "scatter": [
           {
            "marker": {
             "colorbar": {
              "outlinewidth": 0,
              "ticks": ""
             }
            },
            "type": "scatter"
           }
          ],
          "scatter3d": [
           {
            "line": {
             "colorbar": {
              "outlinewidth": 0,
              "ticks": ""
             }
            },
            "marker": {
             "colorbar": {
              "outlinewidth": 0,
              "ticks": ""
             }
            },
            "type": "scatter3d"
           }
          ],
          "scattercarpet": [
           {
            "marker": {
             "colorbar": {
              "outlinewidth": 0,
              "ticks": ""
             }
            },
            "type": "scattercarpet"
           }
          ],
          "scattergeo": [
           {
            "marker": {
             "colorbar": {
              "outlinewidth": 0,
              "ticks": ""
             }
            },
            "type": "scattergeo"
           }
          ],
          "scattergl": [
           {
            "marker": {
             "colorbar": {
              "outlinewidth": 0,
              "ticks": ""
             }
            },
            "type": "scattergl"
           }
          ],
          "scattermapbox": [
           {
            "marker": {
             "colorbar": {
              "outlinewidth": 0,
              "ticks": ""
             }
            },
            "type": "scattermapbox"
           }
          ],
          "scatterpolar": [
           {
            "marker": {
             "colorbar": {
              "outlinewidth": 0,
              "ticks": ""
             }
            },
            "type": "scatterpolar"
           }
          ],
          "scatterpolargl": [
           {
            "marker": {
             "colorbar": {
              "outlinewidth": 0,
              "ticks": ""
             }
            },
            "type": "scatterpolargl"
           }
          ],
          "scatterternary": [
           {
            "marker": {
             "colorbar": {
              "outlinewidth": 0,
              "ticks": ""
             }
            },
            "type": "scatterternary"
           }
          ],
          "surface": [
           {
            "colorbar": {
             "outlinewidth": 0,
             "ticks": ""
            },
            "colorscale": [
             [
              0,
              "#0d0887"
             ],
             [
              0.1111111111111111,
              "#46039f"
             ],
             [
              0.2222222222222222,
              "#7201a8"
             ],
             [
              0.3333333333333333,
              "#9c179e"
             ],
             [
              0.4444444444444444,
              "#bd3786"
             ],
             [
              0.5555555555555556,
              "#d8576b"
             ],
             [
              0.6666666666666666,
              "#ed7953"
             ],
             [
              0.7777777777777778,
              "#fb9f3a"
             ],
             [
              0.8888888888888888,
              "#fdca26"
             ],
             [
              1,
              "#f0f921"
             ]
            ],
            "type": "surface"
           }
          ],
          "table": [
           {
            "cells": {
             "fill": {
              "color": "#EBF0F8"
             },
             "line": {
              "color": "white"
             }
            },
            "header": {
             "fill": {
              "color": "#C8D4E3"
             },
             "line": {
              "color": "white"
             }
            },
            "type": "table"
           }
          ]
         },
         "layout": {
          "annotationdefaults": {
           "arrowcolor": "#2a3f5f",
           "arrowhead": 0,
           "arrowwidth": 1
          },
          "autotypenumbers": "strict",
          "coloraxis": {
           "colorbar": {
            "outlinewidth": 0,
            "ticks": ""
           }
          },
          "colorscale": {
           "diverging": [
            [
             0,
             "#8e0152"
            ],
            [
             0.1,
             "#c51b7d"
            ],
            [
             0.2,
             "#de77ae"
            ],
            [
             0.3,
             "#f1b6da"
            ],
            [
             0.4,
             "#fde0ef"
            ],
            [
             0.5,
             "#f7f7f7"
            ],
            [
             0.6,
             "#e6f5d0"
            ],
            [
             0.7,
             "#b8e186"
            ],
            [
             0.8,
             "#7fbc41"
            ],
            [
             0.9,
             "#4d9221"
            ],
            [
             1,
             "#276419"
            ]
           ],
           "sequential": [
            [
             0,
             "#0d0887"
            ],
            [
             0.1111111111111111,
             "#46039f"
            ],
            [
             0.2222222222222222,
             "#7201a8"
            ],
            [
             0.3333333333333333,
             "#9c179e"
            ],
            [
             0.4444444444444444,
             "#bd3786"
            ],
            [
             0.5555555555555556,
             "#d8576b"
            ],
            [
             0.6666666666666666,
             "#ed7953"
            ],
            [
             0.7777777777777778,
             "#fb9f3a"
            ],
            [
             0.8888888888888888,
             "#fdca26"
            ],
            [
             1,
             "#f0f921"
            ]
           ],
           "sequentialminus": [
            [
             0,
             "#0d0887"
            ],
            [
             0.1111111111111111,
             "#46039f"
            ],
            [
             0.2222222222222222,
             "#7201a8"
            ],
            [
             0.3333333333333333,
             "#9c179e"
            ],
            [
             0.4444444444444444,
             "#bd3786"
            ],
            [
             0.5555555555555556,
             "#d8576b"
            ],
            [
             0.6666666666666666,
             "#ed7953"
            ],
            [
             0.7777777777777778,
             "#fb9f3a"
            ],
            [
             0.8888888888888888,
             "#fdca26"
            ],
            [
             1,
             "#f0f921"
            ]
           ]
          },
          "colorway": [
           "#636efa",
           "#EF553B",
           "#00cc96",
           "#ab63fa",
           "#FFA15A",
           "#19d3f3",
           "#FF6692",
           "#B6E880",
           "#FF97FF",
           "#FECB52"
          ],
          "font": {
           "color": "#2a3f5f"
          },
          "geo": {
           "bgcolor": "white",
           "lakecolor": "white",
           "landcolor": "#E5ECF6",
           "showlakes": true,
           "showland": true,
           "subunitcolor": "white"
          },
          "hoverlabel": {
           "align": "left"
          },
          "hovermode": "closest",
          "mapbox": {
           "style": "light"
          },
          "paper_bgcolor": "white",
          "plot_bgcolor": "#E5ECF6",
          "polar": {
           "angularaxis": {
            "gridcolor": "white",
            "linecolor": "white",
            "ticks": ""
           },
           "bgcolor": "#E5ECF6",
           "radialaxis": {
            "gridcolor": "white",
            "linecolor": "white",
            "ticks": ""
           }
          },
          "scene": {
           "xaxis": {
            "backgroundcolor": "#E5ECF6",
            "gridcolor": "white",
            "gridwidth": 2,
            "linecolor": "white",
            "showbackground": true,
            "ticks": "",
            "zerolinecolor": "white"
           },
           "yaxis": {
            "backgroundcolor": "#E5ECF6",
            "gridcolor": "white",
            "gridwidth": 2,
            "linecolor": "white",
            "showbackground": true,
            "ticks": "",
            "zerolinecolor": "white"
           },
           "zaxis": {
            "backgroundcolor": "#E5ECF6",
            "gridcolor": "white",
            "gridwidth": 2,
            "linecolor": "white",
            "showbackground": true,
            "ticks": "",
            "zerolinecolor": "white"
           }
          },
          "shapedefaults": {
           "line": {
            "color": "#2a3f5f"
           }
          },
          "ternary": {
           "aaxis": {
            "gridcolor": "white",
            "linecolor": "white",
            "ticks": ""
           },
           "baxis": {
            "gridcolor": "white",
            "linecolor": "white",
            "ticks": ""
           },
           "bgcolor": "#E5ECF6",
           "caxis": {
            "gridcolor": "white",
            "linecolor": "white",
            "ticks": ""
           }
          },
          "title": {
           "x": 0.05
          },
          "xaxis": {
           "automargin": true,
           "gridcolor": "white",
           "linecolor": "white",
           "ticks": "",
           "title": {
            "standoff": 15
           },
           "zerolinecolor": "white",
           "zerolinewidth": 2
          },
          "yaxis": {
           "automargin": true,
           "gridcolor": "white",
           "linecolor": "white",
           "ticks": "",
           "title": {
            "standoff": 15
           },
           "zerolinecolor": "white",
           "zerolinewidth": 2
          }
         }
        },
        "title": {
         "text": "Difference Between Home and Away Differential by Team"
        },
        "xaxis": {
         "title": {
          "text": "Team"
         }
        },
        "yaxis": {
         "title": {
          "text": "Avg Diff"
         }
        }
       }
      }
     },
     "metadata": {},
     "output_type": "display_data"
    }
   ],
   "source": [
    "# Which teams have the biggest advantage at home vs away?\n",
    "\n",
    "df = df_scores[['team', 'diff differential']].groupby('team').mean().reset_index()\n",
    "\n",
    "data = [go.Bar(\n",
    "    x = df['team'],\n",
    "    y = df['diff differential']\n",
    ")]\n",
    "\n",
    "layout = go.Layout(\n",
    "    title = 'Difference Between Home and Away Differential by Team',\n",
    "    xaxis = dict(title = 'Team'),\n",
    "    yaxis = dict(title = 'Avg Diff'),\n",
    "    hovermode = 'closest'\n",
    ")\n",
    "\n",
    "fig = go.Figure(data=data, layout=layout)\n",
    "fig.show()"
   ]
  },
  {
   "cell_type": "code",
   "execution_count": null,
   "metadata": {},
   "outputs": [],
   "source": []
  }
 ],
 "metadata": {
  "kernelspec": {
   "display_name": "Python 3.9.7 ('base')",
   "language": "python",
   "name": "python3"
  },
  "language_info": {
   "codemirror_mode": {
    "name": "ipython",
    "version": 3
   },
   "file_extension": ".py",
   "mimetype": "text/x-python",
   "name": "python",
   "nbconvert_exporter": "python",
   "pygments_lexer": "ipython3",
   "version": "3.9.7"
  },
  "orig_nbformat": 4,
  "vscode": {
   "interpreter": {
    "hash": "21bfaabeb5f90dcb35f03e41cd0a17fbadd35308efdf98a46f30b833cf085000"
   }
  }
 },
 "nbformat": 4,
 "nbformat_minor": 2
}
