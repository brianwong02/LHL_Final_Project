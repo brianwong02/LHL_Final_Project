{
 "cells": [
  {
   "cell_type": "code",
   "execution_count": 1,
   "metadata": {},
   "outputs": [],
   "source": [
    "import requests\n",
    "import json\n",
    "import csv\n",
    "import time\n",
    "import pandas as pd"
   ]
  },
  {
   "cell_type": "code",
   "execution_count": 2,
   "metadata": {},
   "outputs": [],
   "source": [
    "# Test connection to API\n",
    "\n",
    "base = \"https://www.balldontlie.io/api/v1/\"\n",
    "url = \"games\"\n",
    "\n",
    "\n",
    "seasons = 2018\n",
    "query = f'seasons[]={seasons}&per_page=100'\n",
    "params = f'?{query}' "
   ]
  },
  {
   "cell_type": "code",
   "execution_count": 3,
   "metadata": {},
   "outputs": [],
   "source": [
    "res = requests.get(base+url)"
   ]
  },
  {
   "cell_type": "code",
   "execution_count": 4,
   "metadata": {},
   "outputs": [
    {
     "data": {
      "text/plain": [
       "200"
      ]
     },
     "execution_count": 4,
     "metadata": {},
     "output_type": "execute_result"
    }
   ],
   "source": [
    "res.status_code"
   ]
  },
  {
   "cell_type": "code",
   "execution_count": 5,
   "metadata": {},
   "outputs": [
    {
     "data": {
      "text/plain": [
       "{'total_pages': 2051,\n",
       " 'current_page': 1,\n",
       " 'next_page': 2,\n",
       " 'per_page': 25,\n",
       " 'total_count': 51255}"
      ]
     },
     "execution_count": 5,
     "metadata": {},
     "output_type": "execute_result"
    }
   ],
   "source": [
    "res.json()['meta']"
   ]
  },
  {
   "cell_type": "code",
   "execution_count": 6,
   "metadata": {},
   "outputs": [],
   "source": [
    "# Function to retrieve data by season\n",
    "\n",
    "def get_season_data(stat, seasons):\n",
    "    url = f\"https://www.balldontlie.io/api/v1/{stat}?seasons[]={season}&per_page=100\"\n",
    "    res = requests.get(url)\n",
    "    status = res.status_code\n",
    "    print(f\"Status: {status}\")\n",
    "\n",
    "    # Get total number of pages\n",
    "    pages = res.json()['meta']['total_pages']\n",
    "    filename = f'C://Users/brian/lighthouse-data-notes/Final_Project/{stat}_{season}_season.csv'\n",
    "\n",
    "    # Creates a Dataframe with the flattened JSON results\n",
    "    df = pd.json_normalize(res.json()['data'])\n",
    "\n",
    "    # Repeat get request for each page from page 2 onwards, adding it to the dataframe\n",
    "    for page in range(2,pages+1):\n",
    "        url = f\"https://www.balldontlie.io/api/v1/{stat}?seasons[]={season}&per_page=100&page={page}\"\n",
    "        res = requests.get(url)\n",
    "        status = res.status_code\n",
    "\n",
    "        # If we get anything but 200 as status, tell us what page\n",
    "        if status != 200:\n",
    "            print(f'Page {page} Status: {status}')\n",
    "\n",
    "        # Normalize JSON result and add results to dataframe\n",
    "        df_page = pd.json_normalize(res.json()['data'])\n",
    "        df = pd.concat([df, df_page])\n",
    "\n",
    "        # Sleep for 1 second after each call. BDL API is limited to 60 per minute\n",
    "        time.sleep(1)\n",
    "\n",
    "    # Save dataframe to csv\n",
    "    df.to_csv(filename, index=False)\n",
    "    print(f'{filename} saved')"
   ]
  },
  {
   "cell_type": "code",
   "execution_count": 10,
   "metadata": {},
   "outputs": [
    {
     "name": "stdout",
     "output_type": "stream",
     "text": [
      "Getting game data for 2019 season\n",
      "Status: 200\n",
      "C://Users/brian/lighthouse-data-notes/Final_Project/games_2019_season.csv saved\n",
      "Getting game data for 2020 season\n",
      "Status: 200\n",
      "C://Users/brian/lighthouse-data-notes/Final_Project/games_2020_season.csv saved\n",
      "Getting game data for 2021 season\n",
      "Status: 200\n",
      "C://Users/brian/lighthouse-data-notes/Final_Project/games_2021_season.csv saved\n",
      "Getting game data for 2022 season\n",
      "Status: 200\n",
      "C://Users/brian/lighthouse-data-notes/Final_Project/games_2022_season.csv saved\n"
     ]
    }
   ],
   "source": [
    "# Get Games Data\n",
    "\n",
    "seasons = [2019,2020,2021,2022]\n",
    "# seasons = [2008, 2009, 2010, 2011, 2012, 2013, 2014, 2015, 2016, 2017, 2018]\n",
    "# seasons = [1998, 1999, 2000, 2001, 2002, 2003, 2004, 2005, 2006, 2007]\n",
    "for season in seasons:\n",
    "    print(f'Getting game data for {season} season')\n",
    "    get_season_data('games', season)"
   ]
  },
  {
   "cell_type": "code",
   "execution_count": 11,
   "metadata": {},
   "outputs": [
    {
     "name": "stdout",
     "output_type": "stream",
     "text": [
      "Getting player stats for 2019 season\n",
      "Status: 200\n",
      "C://Users/brian/lighthouse-data-notes/Final_Project/stats_2019_season.csv saved\n",
      "Getting player stats for 2020 season\n",
      "Status: 200\n",
      "C://Users/brian/lighthouse-data-notes/Final_Project/stats_2020_season.csv saved\n",
      "Getting player stats for 2021 season\n",
      "Status: 200\n",
      "C://Users/brian/lighthouse-data-notes/Final_Project/stats_2021_season.csv saved\n",
      "Getting player stats for 2022 season\n",
      "Status: 200\n",
      "C://Users/brian/lighthouse-data-notes/Final_Project/stats_2022_season.csv saved\n"
     ]
    }
   ],
   "source": [
    "# Get Player stats\n",
    "\n",
    "for season in seasons:\n",
    "    print(f'Getting player stats for {season} season')\n",
    "    get_season_data('stats', season)"
   ]
  },
  {
   "cell_type": "code",
   "execution_count": null,
   "metadata": {},
   "outputs": [],
   "source": []
  }
 ],
 "metadata": {
  "kernelspec": {
   "display_name": "Python 3.9.7 ('base')",
   "language": "python",
   "name": "python3"
  },
  "language_info": {
   "codemirror_mode": {
    "name": "ipython",
    "version": 3
   },
   "file_extension": ".py",
   "mimetype": "text/x-python",
   "name": "python",
   "nbconvert_exporter": "python",
   "pygments_lexer": "ipython3",
   "version": "3.9.7"
  },
  "orig_nbformat": 4,
  "vscode": {
   "interpreter": {
    "hash": "21bfaabeb5f90dcb35f03e41cd0a17fbadd35308efdf98a46f30b833cf085000"
   }
  }
 },
 "nbformat": 4,
 "nbformat_minor": 2
}
